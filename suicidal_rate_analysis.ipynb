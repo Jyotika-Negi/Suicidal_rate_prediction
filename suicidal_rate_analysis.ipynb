{
 "cells": [
  {
   "cell_type": "code",
   "execution_count": 1,
   "metadata": {},
   "outputs": [
    {
     "name": "stdout",
     "output_type": "stream",
     "text": [
      "enter the user_name:ericawilliams969\n",
      "enter the password:analysis123\n",
      "Request return 429 error!\n",
      "{'message': 'Please wait a few minutes before you try again.', 'status': 'fail'}\n",
      "Request return 405 error!\n",
      "{'message': '', 'status': 'fail'}\n",
      "Request return 404 error!\n",
      "Login success!\n",
      "\n",
      "LOGIN SUCCESS\n"
     ]
    }
   ],
   "source": [
    "from InstagramAPI import InstagramAPI\n",
    "username=input(\"enter the user_name:\")\n",
    "#username=\"sna.negi\"\n",
    "password=input(\"enter the password:\")\n",
    "InstagramAPI=InstagramAPI(username,password)\n",
    "z=InstagramAPI.login()\n",
    "if(z==True):\n",
    "    print(\"LOGIN SUCCESS\")\n",
    "else:\n",
    "    print(\"login failed!!\")\n",
    "\n"
   ]
  },
  {
   "cell_type": "code",
   "execution_count": 2,
   "metadata": {},
   "outputs": [],
   "source": [
    "InstagramAPI.getProfileData()\n",
    "result=InstagramAPI.LastJson"
   ]
  },
  {
   "cell_type": "code",
   "execution_count": 3,
   "metadata": {},
   "outputs": [
    {
     "name": "stdout",
     "output_type": "stream",
     "text": [
      "{'user': {'pk': 6156935295, 'username': 'ericawilliams969', 'full_name': 'erica williams', 'is_private': True, 'profile_pic_url': 'https://instagram.fdel3-2.fna.fbcdn.net/v/t51.2885-19/s150x150/22221104_531749390493992_9145330191868887040_n.jpg?_nc_ht=instagram.fdel3-2.fna.fbcdn.net&_nc_ohc=cdW6jRFtGW0AX-SGJKn&oh=98751664ee5a7c546343dc7b90917c6f&oe=5F06D1C6', 'profile_pic_id': '1618249894493837521_6156935295', 'is_verified': False, 'has_anonymous_profile_picture': False, 'biography': 'From #Los Angeles#\\nLives in goa #india#\\nGrand party on 4 Oct 🎉\\nOwner of cafetaria☕\\nJust made an account', 'external_url': '', 'reel_auto_archive': 'unset', 'hd_profile_pic_versions': [{'width': 320, 'height': 320, 'url': 'https://instagram.fdel3-2.fna.fbcdn.net/v/t51.2885-19/s320x320/22221104_531749390493992_9145330191868887040_n.jpg?_nc_ht=instagram.fdel3-2.fna.fbcdn.net&_nc_ohc=cdW6jRFtGW0AX-SGJKn&oh=8c18c74aa42fc393acaca80b2c60be1e&oe=5F03B436'}, {'width': 640, 'height': 640, 'url': 'https://instagram.fdel3-2.fna.fbcdn.net/v/t51.2885-19/s640x640/22221104_531749390493992_9145330191868887040_n.jpg?_nc_ht=instagram.fdel3-2.fna.fbcdn.net&_nc_ohc=cdW6jRFtGW0AX-SGJKn&oh=d71295acd6292b28c1852c8e3f8eae3d&oe=5F05405B'}], 'hd_profile_pic_url_info': {'url': 'https://instagram.fdel3-2.fna.fbcdn.net/v/t51.2885-19/22221104_531749390493992_9145330191868887040_n.jpg?_nc_ht=instagram.fdel3-2.fna.fbcdn.net&_nc_ohc=cdW6jRFtGW0AX-SGJKn&oh=7ab546e5bb300dfc8873303b3ace9c0e&oe=5F050040', 'width': 1080, 'height': 1080}, 'show_conversion_edit_entry': True, 'allowed_commenter_type': 'any', 'is_business': False, 'account_type': 1, 'professional_conversion_suggested_account_type': 2, 'is_call_to_action_enabled': None, 'personal_account_ads_page_name': None, 'personal_account_ads_page_id': None, 'phone_number': '', 'gender': 3, 'email': 'simminegi969@gmail.com', 'can_link_entities_in_bio': False, 'trusted_username': 'ericawilliams969', 'trust_days': 14}, 'status': 'ok'}\n"
     ]
    }
   ],
   "source": [
    "print(result)"
   ]
  },
  {
   "cell_type": "code",
   "execution_count": 4,
   "metadata": {},
   "outputs": [
    {
     "name": "stdout",
     "output_type": "stream",
     "text": [
      "https://instagram.fdel3-2.fna.fbcdn.net/v/t51.2885-19/s150x150/22221104_531749390493992_9145330191868887040_n.jpg?_nc_ht=instagram.fdel3-2.fna.fbcdn.net&_nc_ohc=cdW6jRFtGW0AX-SGJKn&oh=98751664ee5a7c546343dc7b90917c6f&oe=5F06D1C6\n"
     ]
    },
    {
     "ename": "NameError",
     "evalue": "name 'cv2' is not defined",
     "output_type": "error",
     "traceback": [
      "\u001b[1;31m---------------------------------------------------------------------------\u001b[0m",
      "\u001b[1;31mNameError\u001b[0m                                 Traceback (most recent call last)",
      "\u001b[1;32m<ipython-input-4-2d225b02f5a1>\u001b[0m in \u001b[0;36m<module>\u001b[1;34m\u001b[0m\n\u001b[0;32m      1\u001b[0m \u001b[0mprint\u001b[0m \u001b[1;33m(\u001b[0m\u001b[0mresult\u001b[0m\u001b[1;33m[\u001b[0m\u001b[1;34m'user'\u001b[0m\u001b[1;33m]\u001b[0m\u001b[1;33m[\u001b[0m\u001b[1;34m'profile_pic_url'\u001b[0m\u001b[1;33m]\u001b[0m\u001b[1;33m)\u001b[0m\u001b[1;33m\u001b[0m\u001b[1;33m\u001b[0m\u001b[0m\n\u001b[1;32m----> 2\u001b[1;33m \u001b[0mimg\u001b[0m\u001b[1;33m=\u001b[0m\u001b[0mcv2\u001b[0m\u001b[1;33m.\u001b[0m\u001b[0mimread\u001b[0m\u001b[1;33m(\u001b[0m\u001b[1;34m'https://instagram.fagr1-1.fna.fbcdn.net/v/t51.2885-19/s150x150/22221104_531749390493992_9145330191868887040_n.jpg?_nc_ht=instagram.fagr1-1.fna.fbcdn.net&_nc_ohc=b4U-SPV0QvAAX9ZDVI4&oh=b4550d1137e66c1624357801ad1d9f3c&oe=5EE33946'\u001b[0m\u001b[1;33m,\u001b[0m\u001b[1;36m1\u001b[0m\u001b[1;33m)\u001b[0m\u001b[1;33m\u001b[0m\u001b[1;33m\u001b[0m\u001b[0m\n\u001b[0m",
      "\u001b[1;31mNameError\u001b[0m: name 'cv2' is not defined"
     ]
    }
   ],
   "source": [
    "print (result['user']['profile_pic_url'])\n",
    "img=cv2.imread('https://instagram.fagr1-1.fna.fbcdn.net/v/t51.2885-19/s150x150/22221104_531749390493992_9145330191868887040_n.jpg?_nc_ht=instagram.fagr1-1.fna.fbcdn.net&_nc_ohc=b4U-SPV0QvAAX9ZDVI4&oh=b4550d1137e66c1624357801ad1d9f3c&oe=5EE33946',1)"
   ]
  },
  {
   "cell_type": "code",
   "execution_count": 65,
   "metadata": {},
   "outputs": [
    {
     "name": "stdout",
     "output_type": "stream",
     "text": [
      "From #Los Angeles#\n",
      "Lives in goa #india#\n",
      "Grand party on 4 Oct 🎉\n",
      "Owner of cafetaria☕\n",
      "Just made an account\n"
     ]
    }
   ],
   "source": [
    "print (result['user']['biography'])"
   ]
  },
  {
   "cell_type": "code",
   "execution_count": 13,
   "metadata": {},
   "outputs": [
    {
     "name": "stdout",
     "output_type": "stream",
     "text": [
      "<InstagramAPI.InstagramAPI.InstagramAPI object at 0x000001EF98DB5FC8>\n"
     ]
    }
   ],
   "source": [
    "print(InstagramAPI)"
   ]
  },
  {
   "cell_type": "code",
   "execution_count": 5,
   "metadata": {},
   "outputs": [
    {
     "name": "stdout",
     "output_type": "stream",
     "text": [
      "Request return 405 error!\n",
      "{'message': '', 'status': 'fail'}\n"
     ]
    }
   ],
   "source": [
    "InstagramAPI.timelineFeed()\n",
    "result=InstagramAPI.LastJson"
   ]
  },
  {
   "cell_type": "code",
   "execution_count": 66,
   "metadata": {},
   "outputs": [
    {
     "name": "stdout",
     "output_type": "stream",
     "text": [
      "6156935295\n"
     ]
    }
   ],
   "source": [
    "InstagramAPI.getProfileData()\n",
    "user_id=InstagramAPI.LastJson['user']['pk']\n",
    "print (user_id)"
   ]
  },
  {
   "cell_type": "code",
   "execution_count": 67,
   "metadata": {},
   "outputs": [
    {
     "name": "stdout",
     "output_type": "stream",
     "text": [
      "following:32\n"
     ]
    }
   ],
   "source": [
    "InstagramAPI.getUserFollowings(user_id)\n",
    "print(\"following:\"+str(len(InstagramAPI.LastJson['users'])))\n",
    "#following_list=InstagramAPI.LastJson['users']"
   ]
  },
  {
   "cell_type": "code",
   "execution_count": 25,
   "metadata": {},
   "outputs": [
    {
     "name": "stdout",
     "output_type": "stream",
     "text": [
      "Request return 405 error!\n",
      "{'message': '', 'status': 'fail'}\n",
      "{'message': '', 'status': 'fail'}\n"
     ]
    }
   ],
   "source": [
    "InstagramAPI.timelineFeed()\n",
    "result=InstagramAPI.LastJson\n",
    "print(result)"
   ]
  },
  {
   "cell_type": "code",
   "execution_count": 29,
   "metadata": {},
   "outputs": [
    {
     "name": "stdout",
     "output_type": "stream",
     "text": [
      "<bound method InstagramAPI.getProfileData of <InstagramAPI.InstagramAPI.InstagramAPI object at 0x00000297D08F9288>>\n"
     ]
    }
   ],
   "source": [
    "print(InstagramAPI.getProfileData)\n"
   ]
  },
  {
   "cell_type": "code",
   "execution_count": 5,
   "metadata": {},
   "outputs": [
    {
     "name": "stdout",
     "output_type": "stream",
     "text": [
      "[[{'taken_at': 1589095188, 'pk': 2305820023397289069, 'id': '2305820023397289069_6156935295', 'device_timestamp': 174827995452941, 'media_type': 1, 'code': 'B__6xgylAxt-Sag09QBBzQOFIGpRNG1TjIAKdY0', 'client_cache_key': 'MjMwNTgyMDAyMzM5NzI4OTA2OQ==.2', 'filter_type': 0, 'image_versions2': {'candidates': [{'width': 522, 'height': 521, 'url': 'https://instagram.fdel3-2.fna.fbcdn.net/v/t51.2885-15/e35/96123725_272845870565089_3318730032652101268_n.jpg?_nc_ht=instagram.fdel3-2.fna.fbcdn.net&_nc_cat=101&_nc_ohc=_2YbvwVrvjcAX-dJrmS&oh=a5fa063795e4e03ce4d4f87956e96611&oe=5F041EE1&ig_cache_key=MjMwNTgyMDAyMzM5NzI4OTA2OQ%3D%3D.2', 'scans_profile': 'e35', 'estimated_scans_sizes': [5166, 10333, 15500, 20666, 25833, 32248, 416490, 46500, 46500]}, {'width': 240, 'height': 239, 'url': 'https://instagram.fdel3-2.fna.fbcdn.net/v/t51.2885-15/e35/s240x240/96123725_272845870565089_3318730032652101268_n.jpg?_nc_ht=instagram.fdel3-2.fna.fbcdn.net&_nc_cat=101&_nc_ohc=_2YbvwVrvjcAX-dJrmS&oh=3771855db8410b9342bf645bc0d79795&oe=5F0558E9&ig_cache_key=MjMwNTgyMDAyMzM5NzI4OTA2OQ%3D%3D.2', 'scans_profile': 'e35', 'estimated_scans_sizes': [1656, 3312, 4969, 6625, 8282, 10339, 133533, 14908, 14908]}]}, 'original_width': 522, 'original_height': 521, 'user': {'pk': 6156935295, 'username': 'ericawilliams969', 'full_name': 'erica williams', 'is_private': True, 'profile_pic_url': 'https://instagram.fdel3-2.fna.fbcdn.net/v/t51.2885-19/s150x150/22221104_531749390493992_9145330191868887040_n.jpg?_nc_ht=instagram.fdel3-2.fna.fbcdn.net&_nc_ohc=cdW6jRFtGW0AX-SGJKn&oh=98751664ee5a7c546343dc7b90917c6f&oe=5F06D1C6', 'profile_pic_id': '1618249894493837521_6156935295', 'is_verified': False, 'has_anonymous_profile_picture': False, 'can_boost_post': False, 'can_see_organic_insights': False, 'show_insights_terms': False, 'reel_auto_archive': 'unset', 'is_unpublished': False, 'allowed_commenter_type': 'any', 'latest_reel_media': 0}, 'can_viewer_reshare': True, 'caption_is_edited': False, 'comment_likes_enabled': True, 'comment_threading_enabled': False, 'has_more_comments': False, 'max_num_visible_preview_comments': 2, 'preview_comments': [], 'can_view_more_preview_comments': False, 'comment_count': 0, 'inline_composer_display_condition': 'impression_trigger', 'like_count': 0, 'has_liked': False, 'top_likers': [], 'likers': [], 'photo_of_you': False, 'can_see_insights_as_brand': False, 'caption': {'pk': 17914898542415267, 'user_id': 6156935295, 'text': 'Flowers are blooming', 'type': 1, 'created_at': 1589095189, 'created_at_utc': 1589095189, 'content_type': 'comment', 'status': 'Active', 'bit_flags': 0, 'did_report_as_spam': False, 'share_enabled': False, 'user': {'pk': 6156935295, 'username': 'ericawilliams969', 'full_name': 'erica williams', 'is_private': True, 'profile_pic_url': 'https://instagram.fdel3-2.fna.fbcdn.net/v/t51.2885-19/s150x150/22221104_531749390493992_9145330191868887040_n.jpg?_nc_ht=instagram.fdel3-2.fna.fbcdn.net&_nc_ohc=cdW6jRFtGW0AX-SGJKn&oh=98751664ee5a7c546343dc7b90917c6f&oe=5F06D1C6', 'profile_pic_id': '1618249894493837521_6156935295', 'is_verified': False, 'has_anonymous_profile_picture': False, 'can_boost_post': False, 'can_see_organic_insights': False, 'show_insights_terms': False, 'reel_auto_archive': 'unset', 'is_unpublished': False, 'allowed_commenter_type': 'any', 'latest_reel_media': 0}, 'media_id': 2305820023397289069}, 'fb_user_tags': {'in': []}, 'can_viewer_save': True, 'organic_tracking_token': 'eyJ2ZXJzaW9uIjo1LCJwYXlsb2FkIjp7ImlzX2FuYWx5dGljc190cmFja2VkIjpmYWxzZSwidXVpZCI6IjU5OWU1NjI1MmNkMTQ0NzI4ZjNhNmRlMmI0NDg0YjA4MjMwNTgyMDAyMzM5NzI4OTA2OSIsInNlcnZlcl90b2tlbiI6IjE1OTE0MzcyMDA5OTB8MjMwNTgyMDAyMzM5NzI4OTA2OXw2MTU2OTM1Mjk1fGZmMTdmOTFjOTc0NjllMWI4OGVlYTgyN2IwODBjNWU5ZGI3MDQwODc1NmUxNTQyMjBiODc1Nzg3ZTIwOGEzMzEifSwic2lnbmF0dXJlIjoiIn0='}, {'taken_at': 1589095127, 'pk': 2305819510207643195, 'id': '2305819510207643195_6156935295', 'device_timestamp': 174764299597966, 'media_type': 1, 'code': 'B__6qC2F347mJo-jeNEa3oWA9NXK3oELpNZAbQ0', 'client_cache_key': 'MjMwNTgxOTUxMDIwNzY0MzE5NQ==.2', 'filter_type': 0, 'image_versions2': {'candidates': [{'width': 402, 'height': 402, 'url': 'https://instagram.fdel3-2.fna.fbcdn.net/v/t51.2885-15/e35/95482267_136768364599807_6796457780224566676_n.jpg?_nc_ht=instagram.fdel3-2.fna.fbcdn.net&_nc_cat=107&_nc_ohc=nwp8HFm2-ZEAX8YhJcS&oh=d24f347b0c00af1289994f7e295659b8&oe=5F04CC1D&ig_cache_key=MjMwNTgxOTUxMDIwNzY0MzE5NQ%3D%3D.2', 'scans_profile': 'e35', 'estimated_scans_sizes': [3100, 6201, 9301, 12402, 15502, 19352, 249941, 27905, 27905]}, {'width': 240, 'height': 240, 'url': 'https://instagram.fdel3-2.fna.fbcdn.net/v/t51.2885-15/e35/s240x240/95482267_136768364599807_6796457780224566676_n.jpg?_nc_ht=instagram.fdel3-2.fna.fbcdn.net&_nc_cat=107&_nc_ohc=nwp8HFm2-ZEAX8YhJcS&oh=a6c5a264778c13b802335f8fb87905a0&oe=5F049A15&ig_cache_key=MjMwNTgxOTUxMDIwNzY0MzE5NQ%3D%3D.2', 'scans_profile': 'e35', 'estimated_scans_sizes': [1458, 2917, 4376, 5834, 7293, 9104, 117590, 13128, 13128]}]}, 'original_width': 402, 'original_height': 402, 'user': {'pk': 6156935295, 'username': 'ericawilliams969', 'full_name': 'erica williams', 'is_private': True, 'profile_pic_url': 'https://instagram.fdel3-2.fna.fbcdn.net/v/t51.2885-19/s150x150/22221104_531749390493992_9145330191868887040_n.jpg?_nc_ht=instagram.fdel3-2.fna.fbcdn.net&_nc_ohc=cdW6jRFtGW0AX-SGJKn&oh=98751664ee5a7c546343dc7b90917c6f&oe=5F06D1C6', 'profile_pic_id': '1618249894493837521_6156935295', 'is_verified': False, 'has_anonymous_profile_picture': False, 'can_boost_post': False, 'can_see_organic_insights': False, 'show_insights_terms': False, 'reel_auto_archive': 'unset', 'is_unpublished': False, 'allowed_commenter_type': 'any', 'latest_reel_media': 0}, 'can_viewer_reshare': True, 'caption_is_edited': False, 'comment_likes_enabled': True, 'comment_threading_enabled': False, 'has_more_comments': False, 'max_num_visible_preview_comments': 2, 'preview_comments': [], 'can_view_more_preview_comments': False, 'comment_count': 0, 'inline_composer_display_condition': 'impression_trigger', 'like_count': 0, 'has_liked': False, 'top_likers': [], 'likers': [], 'photo_of_you': False, 'can_see_insights_as_brand': False, 'caption': {'pk': 17866091044814994, 'user_id': 6156935295, 'text': 'Finding my happiness in my own way', 'type': 1, 'created_at': 1589095127, 'created_at_utc': 1589095127, 'content_type': 'comment', 'status': 'Active', 'bit_flags': 0, 'did_report_as_spam': False, 'share_enabled': False, 'user': {'pk': 6156935295, 'username': 'ericawilliams969', 'full_name': 'erica williams', 'is_private': True, 'profile_pic_url': 'https://instagram.fdel3-2.fna.fbcdn.net/v/t51.2885-19/s150x150/22221104_531749390493992_9145330191868887040_n.jpg?_nc_ht=instagram.fdel3-2.fna.fbcdn.net&_nc_ohc=cdW6jRFtGW0AX-SGJKn&oh=98751664ee5a7c546343dc7b90917c6f&oe=5F06D1C6', 'profile_pic_id': '1618249894493837521_6156935295', 'is_verified': False, 'has_anonymous_profile_picture': False, 'can_boost_post': False, 'can_see_organic_insights': False, 'show_insights_terms': False, 'reel_auto_archive': 'unset', 'is_unpublished': False, 'allowed_commenter_type': 'any', 'latest_reel_media': 0}, 'media_id': 2305819510207643195}, 'fb_user_tags': {'in': []}, 'can_viewer_save': True, 'organic_tracking_token': 'eyJ2ZXJzaW9uIjo1LCJwYXlsb2FkIjp7ImlzX2FuYWx5dGljc190cmFja2VkIjpmYWxzZSwidXVpZCI6IjU5OWU1NjI1MmNkMTQ0NzI4ZjNhNmRlMmI0NDg0YjA4MjMwNTgxOTUxMDIwNzY0MzE5NSIsInNlcnZlcl90b2tlbiI6IjE1OTE0MzcyMDA5OTB8MjMwNTgxOTUxMDIwNzY0MzE5NXw2MTU2OTM1Mjk1fDU3MDY0NmQ1M2IzOWU2MWFlYTg5YWEyYWZmYjYwMzVlNGZlOTFlODE3NjczM2JkYmZjNmEyODYwZTUzODc3ZjAifSwic2lnbmF0dXJlIjoiIn0='}, {'taken_at': 1589095091, 'pk': 2305819209140509038, 'id': '2305819209140509038_6156935295', 'device_timestamp': 174691904761795, 'media_type': 1, 'code': 'B__6lqdF5lu3PpTV2zyac_r1IckQPB0xSU5NCg0', 'client_cache_key': 'MjMwNTgxOTIwOTE0MDUwOTAzOA==.2', 'filter_type': 0, 'image_versions2': {'candidates': [{'width': 720, 'height': 720, 'url': 'https://instagram.fdel3-1.fna.fbcdn.net/v/t51.2885-15/e35/97145508_251789479354686_8481699416379874753_n.jpg?_nc_ht=instagram.fdel3-1.fna.fbcdn.net&_nc_cat=106&_nc_ohc=s7R-_EYSQvEAX_tRRVg&oh=faa006b9a96c0d9183a570df1afa50dc&oe=5F0423A3&ig_cache_key=MjMwNTgxOTIwOTE0MDUwOTAzOA%3D%3D.2', 'scans_profile': 'e35', 'estimated_scans_sizes': [3335, 6670, 10005, 13340, 16676, 20128, 24366, 27136, 30017]}, {'width': 240, 'height': 240, 'url': 'https://instagram.fdel3-1.fna.fbcdn.net/v/t51.2885-15/e35/s240x240/97145508_251789479354686_8481699416379874753_n.jpg?_nc_ht=instagram.fdel3-1.fna.fbcdn.net&_nc_cat=106&_nc_ohc=s7R-_EYSQvEAX_tRRVg&oh=5fd1230db1ab3166baf32a386b3d0993&oe=5F05462B&ig_cache_key=MjMwNTgxOTIwOTE0MDUwOTAzOA%3D%3D.2', 'scans_profile': 'e35', 'estimated_scans_sizes': [961, 1922, 2883, 3844, 4805, 5998, 77470, 8649, 8649]}]}, 'original_width': 720, 'original_height': 720, 'user': {'pk': 6156935295, 'username': 'ericawilliams969', 'full_name': 'erica williams', 'is_private': True, 'profile_pic_url': 'https://instagram.fdel3-2.fna.fbcdn.net/v/t51.2885-19/s150x150/22221104_531749390493992_9145330191868887040_n.jpg?_nc_ht=instagram.fdel3-2.fna.fbcdn.net&_nc_ohc=cdW6jRFtGW0AX-SGJKn&oh=98751664ee5a7c546343dc7b90917c6f&oe=5F06D1C6', 'profile_pic_id': '1618249894493837521_6156935295', 'is_verified': False, 'has_anonymous_profile_picture': False, 'can_boost_post': False, 'can_see_organic_insights': False, 'show_insights_terms': False, 'reel_auto_archive': 'unset', 'is_unpublished': False, 'allowed_commenter_type': 'any', 'latest_reel_media': 0}, 'can_viewer_reshare': True, 'caption_is_edited': False, 'comment_likes_enabled': True, 'comment_threading_enabled': False, 'has_more_comments': False, 'max_num_visible_preview_comments': 2, 'preview_comments': [], 'can_view_more_preview_comments': False, 'comment_count': 0, 'inline_composer_display_condition': 'impression_trigger', 'like_count': 0, 'has_liked': False, 'top_likers': [], 'likers': [], 'photo_of_you': False, 'can_see_insights_as_brand': False, 'caption': {'pk': 17922834229393925, 'user_id': 6156935295, 'text': 'Still ill silence and end this bitch 🙂', 'type': 1, 'created_at': 1589095092, 'created_at_utc': 1589095092, 'content_type': 'comment', 'status': 'Active', 'bit_flags': 0, 'did_report_as_spam': False, 'share_enabled': False, 'user': {'pk': 6156935295, 'username': 'ericawilliams969', 'full_name': 'erica williams', 'is_private': True, 'profile_pic_url': 'https://instagram.fdel3-2.fna.fbcdn.net/v/t51.2885-19/s150x150/22221104_531749390493992_9145330191868887040_n.jpg?_nc_ht=instagram.fdel3-2.fna.fbcdn.net&_nc_ohc=cdW6jRFtGW0AX-SGJKn&oh=98751664ee5a7c546343dc7b90917c6f&oe=5F06D1C6', 'profile_pic_id': '1618249894493837521_6156935295', 'is_verified': False, 'has_anonymous_profile_picture': False, 'can_boost_post': False, 'can_see_organic_insights': False, 'show_insights_terms': False, 'reel_auto_archive': 'unset', 'is_unpublished': False, 'allowed_commenter_type': 'any', 'latest_reel_media': 0}, 'media_id': 2305819209140509038}, 'fb_user_tags': {'in': []}, 'can_viewer_save': True, 'organic_tracking_token': 'eyJ2ZXJzaW9uIjo1LCJwYXlsb2FkIjp7ImlzX2FuYWx5dGljc190cmFja2VkIjpmYWxzZSwidXVpZCI6IjU5OWU1NjI1MmNkMTQ0NzI4ZjNhNmRlMmI0NDg0YjA4MjMwNTgxOTIwOTE0MDUwOTAzOCIsInNlcnZlcl90b2tlbiI6IjE1OTE0MzcyMDA5OTB8MjMwNTgxOTIwOTE0MDUwOTAzOHw2MTU2OTM1Mjk1fDFjZDdiNDIxYzFjYmI1ZTlhNDUwMWYxY2U1NTE0YjIzNTJiYzU1NTVhMDkzZDQ0ZDE3YmQwYTA2NDhmMjFmMmIifSwic2lnbmF0dXJlIjoiIn0='}, {'taken_at': 1589094974, 'pk': 2305818228562528518, 'id': '2305818228562528518_6156935295', 'device_timestamp': 174611606609951, 'media_type': 1, 'code': 'B__6XZOFwkGi6Ndvjba6j7iXXVY2QUlOR5vrHc0', 'client_cache_key': 'MjMwNTgxODIyODU2MjUyODUxOA==.2', 'filter_type': 0, 'image_versions2': {'candidates': [{'width': 705, 'height': 705, 'url': 'https://instagram.fdel3-1.fna.fbcdn.net/v/t51.2885-15/e35/96225996_243242910434082_4243241327941043565_n.jpg?_nc_ht=instagram.fdel3-1.fna.fbcdn.net&_nc_cat=106&_nc_ohc=pZA93AHEta8AX9WYBWP&oh=a70cdf29dfb2271067ff3bdd267f8a69&oe=5F05CCAD&ig_cache_key=MjMwNTgxODIyODU2MjUyODUxOA%3D%3D.2', 'scans_profile': 'e35', 'estimated_scans_sizes': [3260, 6520, 9781, 13041, 16302, 19677, 23820, 26528, 29344]}, {'width': 240, 'height': 240, 'url': 'https://instagram.fdel3-1.fna.fbcdn.net/v/t51.2885-15/e35/s240x240/96225996_243242910434082_4243241327941043565_n.jpg?_nc_ht=instagram.fdel3-1.fna.fbcdn.net&_nc_cat=106&_nc_ohc=pZA93AHEta8AX9WYBWP&oh=ec7bb09f80c52837ba0d9e8ecf037f15&oe=5F059925&ig_cache_key=MjMwNTgxODIyODU2MjUyODUxOA%3D%3D.2', 'scans_profile': 'e35', 'estimated_scans_sizes': [961, 1923, 2885, 3846, 4808, 6002, 77520, 8655, 8655]}]}, 'original_width': 705, 'original_height': 705, 'user': {'pk': 6156935295, 'username': 'ericawilliams969', 'full_name': 'erica williams', 'is_private': True, 'profile_pic_url': 'https://instagram.fdel3-2.fna.fbcdn.net/v/t51.2885-19/s150x150/22221104_531749390493992_9145330191868887040_n.jpg?_nc_ht=instagram.fdel3-2.fna.fbcdn.net&_nc_ohc=cdW6jRFtGW0AX-SGJKn&oh=98751664ee5a7c546343dc7b90917c6f&oe=5F06D1C6', 'profile_pic_id': '1618249894493837521_6156935295', 'is_verified': False, 'has_anonymous_profile_picture': False, 'can_boost_post': False, 'can_see_organic_insights': False, 'show_insights_terms': False, 'reel_auto_archive': 'unset', 'is_unpublished': False, 'allowed_commenter_type': 'any', 'latest_reel_media': 0}, 'can_viewer_reshare': True, 'caption_is_edited': False, 'comment_likes_enabled': True, 'comment_threading_enabled': False, 'has_more_comments': False, 'max_num_visible_preview_comments': 2, 'preview_comments': [], 'can_view_more_preview_comments': False, 'comment_count': 0, 'inline_composer_display_condition': 'impression_trigger', 'like_count': 0, 'has_liked': False, 'top_likers': [], 'likers': [], 'photo_of_you': False, 'can_see_insights_as_brand': False, 'caption': {'pk': 18054453025238505, 'user_id': 6156935295, 'text': 'Post appocalyse', 'type': 1, 'created_at': 1589094975, 'created_at_utc': 1589094975, 'content_type': 'comment', 'status': 'Active', 'bit_flags': 0, 'did_report_as_spam': False, 'share_enabled': False, 'user': {'pk': 6156935295, 'username': 'ericawilliams969', 'full_name': 'erica williams', 'is_private': True, 'profile_pic_url': 'https://instagram.fdel3-2.fna.fbcdn.net/v/t51.2885-19/s150x150/22221104_531749390493992_9145330191868887040_n.jpg?_nc_ht=instagram.fdel3-2.fna.fbcdn.net&_nc_ohc=cdW6jRFtGW0AX-SGJKn&oh=98751664ee5a7c546343dc7b90917c6f&oe=5F06D1C6', 'profile_pic_id': '1618249894493837521_6156935295', 'is_verified': False, 'has_anonymous_profile_picture': False, 'can_boost_post': False, 'can_see_organic_insights': False, 'show_insights_terms': False, 'reel_auto_archive': 'unset', 'is_unpublished': False, 'allowed_commenter_type': 'any', 'latest_reel_media': 0}, 'media_id': 2305818228562528518}, 'fb_user_tags': {'in': []}, 'can_viewer_save': True, 'organic_tracking_token': 'eyJ2ZXJzaW9uIjo1LCJwYXlsb2FkIjp7ImlzX2FuYWx5dGljc190cmFja2VkIjpmYWxzZSwidXVpZCI6IjU5OWU1NjI1MmNkMTQ0NzI4ZjNhNmRlMmI0NDg0YjA4MjMwNTgxODIyODU2MjUyODUxOCIsInNlcnZlcl90b2tlbiI6IjE1OTE0MzcyMDA5OTB8MjMwNTgxODIyODU2MjUyODUxOHw2MTU2OTM1Mjk1fGNkYzk5N2ExMjI2Yzc1MmI5OWMyNDJlNzA4Y2ZkZGQ3NTUxMmVkNTkyY2ZmODBhYzA5OGEzOTUyMmQxMTE3ODIifSwic2lnbmF0dXJlIjoiIn0='}, {'taken_at': 1589094861, 'pk': 2305817282587550677, 'id': '2305817282587550677_6156935295', 'device_timestamp': 174501422121139, 'media_type': 1, 'code': 'B__6JoNlmPVW9nWuorDKz-K6fk1BPbM9wgxzzw0', 'client_cache_key': 'MjMwNTgxNzI4MjU4NzU1MDY3Nw==.2', 'filter_type': 0, 'image_versions2': {'candidates': [{'width': 499, 'height': 499, 'url': 'https://instagram.fdel3-1.fna.fbcdn.net/v/t51.2885-15/e35/96683152_943685316065260_1861901969908050777_n.jpg?_nc_ht=instagram.fdel3-1.fna.fbcdn.net&_nc_cat=104&_nc_ohc=u0KfYEyAw9UAX9NP5Ro&oh=e76ebf88c37d368920166fe2b92fd900&oe=5F04C3A8&ig_cache_key=MjMwNTgxNzI4MjU4NzU1MDY3Nw%3D%3D.2', 'scans_profile': 'e35', 'estimated_scans_sizes': [3234, 6468, 9703, 12937, 16171, 20187, 260724, 29109, 29109]}, {'width': 240, 'height': 240, 'url': 'https://instagram.fdel3-1.fna.fbcdn.net/v/t51.2885-15/e35/s240x240/96683152_943685316065260_1861901969908050777_n.jpg?_nc_ht=instagram.fdel3-1.fna.fbcdn.net&_nc_cat=104&_nc_ohc=u0KfYEyAw9UAX9NP5Ro&oh=e6a275334cea0596d7def484302bec88&oe=5F042C30&ig_cache_key=MjMwNTgxNzI4MjU4NzU1MDY3Nw%3D%3D.2', 'scans_profile': 'e35', 'estimated_scans_sizes': [1109, 2218, 3328, 4437, 5546, 6924, 89431, 9984, 9984]}]}, 'original_width': 499, 'original_height': 499, 'user': {'pk': 6156935295, 'username': 'ericawilliams969', 'full_name': 'erica williams', 'is_private': True, 'profile_pic_url': 'https://instagram.fdel3-2.fna.fbcdn.net/v/t51.2885-19/s150x150/22221104_531749390493992_9145330191868887040_n.jpg?_nc_ht=instagram.fdel3-2.fna.fbcdn.net&_nc_ohc=cdW6jRFtGW0AX-SGJKn&oh=98751664ee5a7c546343dc7b90917c6f&oe=5F06D1C6', 'profile_pic_id': '1618249894493837521_6156935295', 'is_verified': False, 'has_anonymous_profile_picture': False, 'can_boost_post': False, 'can_see_organic_insights': False, 'show_insights_terms': False, 'reel_auto_archive': 'unset', 'is_unpublished': False, 'allowed_commenter_type': 'any', 'latest_reel_media': 0}, 'can_viewer_reshare': True, 'caption_is_edited': True, 'comment_likes_enabled': True, 'comment_threading_enabled': False, 'has_more_comments': False, 'max_num_visible_preview_comments': 2, 'preview_comments': [], 'can_view_more_preview_comments': False, 'comment_count': 0, 'inline_composer_display_condition': 'impression_trigger', 'like_count': 1, 'has_liked': False, 'top_likers': [], 'likers': [{'pk': 1614764584, 'username': 'woahits.eric', 'full_name': 'Eric Jones', 'is_private': False, 'profile_pic_url': 'https://instagram.fdel3-2.fna.fbcdn.net/v/t51.2885-19/s150x150/91157785_2902995356443180_3142765554897518592_n.jpg?_nc_ht=instagram.fdel3-2.fna.fbcdn.net&_nc_ohc=l1ZFRk97sHQAX-O97ri&oh=49f79d5df1baeb2e09b6adc6ae2fd1e9&oe=5F0555E0', 'profile_pic_id': '2270892691025074807_1614764584', 'is_verified': False}], 'photo_of_you': False, 'can_see_insights_as_brand': False, 'caption': {'pk': 17871905605725271, 'user_id': 6156935295, 'text': 'Yes i am happy 🙂🙂', 'type': 1, 'created_at': 1589094903, 'created_at_utc': 1589094903, 'content_type': 'comment', 'status': 'Active', 'bit_flags': 0, 'did_report_as_spam': False, 'share_enabled': False, 'user': {'pk': 6156935295, 'username': 'ericawilliams969', 'full_name': 'erica williams', 'is_private': True, 'profile_pic_url': 'https://instagram.fdel3-2.fna.fbcdn.net/v/t51.2885-19/s150x150/22221104_531749390493992_9145330191868887040_n.jpg?_nc_ht=instagram.fdel3-2.fna.fbcdn.net&_nc_ohc=cdW6jRFtGW0AX-SGJKn&oh=98751664ee5a7c546343dc7b90917c6f&oe=5F06D1C6', 'profile_pic_id': '1618249894493837521_6156935295', 'is_verified': False, 'has_anonymous_profile_picture': False, 'can_boost_post': False, 'can_see_organic_insights': False, 'show_insights_terms': False, 'reel_auto_archive': 'unset', 'is_unpublished': False, 'allowed_commenter_type': 'any', 'latest_reel_media': 0}, 'media_id': 2305817282587550677}, 'fb_user_tags': {'in': []}, 'can_viewer_save': True, 'organic_tracking_token': 'eyJ2ZXJzaW9uIjo1LCJwYXlsb2FkIjp7ImlzX2FuYWx5dGljc190cmFja2VkIjpmYWxzZSwidXVpZCI6IjU5OWU1NjI1MmNkMTQ0NzI4ZjNhNmRlMmI0NDg0YjA4MjMwNTgxNzI4MjU4NzU1MDY3NyIsInNlcnZlcl90b2tlbiI6IjE1OTE0MzcyMDA5OTB8MjMwNTgxNzI4MjU4NzU1MDY3N3w2MTU2OTM1Mjk1fDgxZWE5ZmIyNmU0MjQ2MTE2M2JjYzQwNmUzMmNkNjg5MzgyMjI5ZTlhOTkzMTRhYzM4Njc4OTI5Y2UxMWVhMTcifSwic2lnbmF0dXJlIjoiIn0='}, {'taken_at': 1589094841, 'pk': 2305817112944706144, 'id': '2305817112944706144_6156935295', 'device_timestamp': 174445779526369, 'media_type': 1, 'code': 'B__6HKOFgJgrRT58m5TfCzzWT3iKRkBMR2Vr3Q0', 'client_cache_key': 'MjMwNTgxNzExMjk0NDcwNjE0NA==.2', 'filter_type': 0, 'image_versions2': {'candidates': [{'width': 638, 'height': 638, 'url': 'https://instagram.fdel3-2.fna.fbcdn.net/v/t51.2885-15/e35/96412732_2345425285754647_5300943964741488268_n.jpg?_nc_ht=instagram.fdel3-2.fna.fbcdn.net&_nc_cat=107&_nc_ohc=GFDkRSp5WgUAX8NZMJ1&oh=d62b6a8f72c7605296521378c7a3b736&oe=5F041A94&ig_cache_key=MjMwNTgxNzExMjk0NDcwNjE0NA%3D%3D.2', 'scans_profile': 'e35', 'estimated_scans_sizes': [5181, 10362, 15543, 20724, 25906, 32339, 417663, 46631, 46631]}, {'width': 240, 'height': 240, 'url': 'https://instagram.fdel3-2.fna.fbcdn.net/v/t51.2885-15/e35/s240x240/96412732_2345425285754647_5300943964741488268_n.jpg?_nc_ht=instagram.fdel3-2.fna.fbcdn.net&_nc_cat=107&_nc_ohc=GFDkRSp5WgUAX8NZMJ1&oh=a2b87d64e51459e8d362fc6430d4ce71&oe=5F03682B&ig_cache_key=MjMwNTgxNzExMjk0NDcwNjE0NA%3D%3D.2', 'scans_profile': 'e35', 'estimated_scans_sizes': [1240, 2481, 3722, 4963, 6204, 7745, 100030, 11168, 11168]}]}, 'original_width': 638, 'original_height': 638, 'user': {'pk': 6156935295, 'username': 'ericawilliams969', 'full_name': 'erica williams', 'is_private': True, 'profile_pic_url': 'https://instagram.fdel3-2.fna.fbcdn.net/v/t51.2885-19/s150x150/22221104_531749390493992_9145330191868887040_n.jpg?_nc_ht=instagram.fdel3-2.fna.fbcdn.net&_nc_ohc=cdW6jRFtGW0AX-SGJKn&oh=98751664ee5a7c546343dc7b90917c6f&oe=5F06D1C6', 'profile_pic_id': '1618249894493837521_6156935295', 'is_verified': False, 'has_anonymous_profile_picture': False, 'can_boost_post': False, 'can_see_organic_insights': False, 'show_insights_terms': False, 'reel_auto_archive': 'unset', 'is_unpublished': False, 'allowed_commenter_type': 'any', 'latest_reel_media': 0}, 'can_viewer_reshare': True, 'caption_is_edited': False, 'comment_likes_enabled': True, 'comment_threading_enabled': False, 'has_more_comments': False, 'max_num_visible_preview_comments': 2, 'preview_comments': [], 'can_view_more_preview_comments': False, 'comment_count': 0, 'inline_composer_display_condition': 'impression_trigger', 'like_count': 0, 'has_liked': False, 'top_likers': [], 'likers': [], 'photo_of_you': False, 'can_see_insights_as_brand': False, 'caption': {'pk': 17913894079425467, 'user_id': 6156935295, 'text': 'My heart is filled with griefs and ill mindset', 'type': 1, 'created_at': 1589094842, 'created_at_utc': 1589094842, 'content_type': 'comment', 'status': 'Active', 'bit_flags': 0, 'did_report_as_spam': False, 'share_enabled': False, 'user': {'pk': 6156935295, 'username': 'ericawilliams969', 'full_name': 'erica williams', 'is_private': True, 'profile_pic_url': 'https://instagram.fdel3-2.fna.fbcdn.net/v/t51.2885-19/s150x150/22221104_531749390493992_9145330191868887040_n.jpg?_nc_ht=instagram.fdel3-2.fna.fbcdn.net&_nc_ohc=cdW6jRFtGW0AX-SGJKn&oh=98751664ee5a7c546343dc7b90917c6f&oe=5F06D1C6', 'profile_pic_id': '1618249894493837521_6156935295', 'is_verified': False, 'has_anonymous_profile_picture': False, 'can_boost_post': False, 'can_see_organic_insights': False, 'show_insights_terms': False, 'reel_auto_archive': 'unset', 'is_unpublished': False, 'allowed_commenter_type': 'any', 'latest_reel_media': 0}, 'media_id': 2305817112944706144}, 'fb_user_tags': {'in': []}, 'can_viewer_save': True, 'organic_tracking_token': 'eyJ2ZXJzaW9uIjo1LCJwYXlsb2FkIjp7ImlzX2FuYWx5dGljc190cmFja2VkIjpmYWxzZSwidXVpZCI6IjU5OWU1NjI1MmNkMTQ0NzI4ZjNhNmRlMmI0NDg0YjA4MjMwNTgxNzExMjk0NDcwNjE0NCIsInNlcnZlcl90b2tlbiI6IjE1OTE0MzcyMDA5OTB8MjMwNTgxNzExMjk0NDcwNjE0NHw2MTU2OTM1Mjk1fGE1MGM5YzJjY2I5MDY0ZDYyNDAwZDdhMTU2MWUxZDIwMWQxMTNlZGFmYjk0NDI4Y2VhN2E5ZWNmOTAxOGZmZmMifSwic2lnbmF0dXJlIjoiIn0='}, {'taken_at': 1589086617, 'pk': 2305748122004148797, 'id': '2305748122004148797_6156935295', 'device_timestamp': 167546760580354, 'media_type': 1, 'code': 'B__qbNZlNI9ZW67zhiJnm9rEqsCxWxHtP-ATms0', 'client_cache_key': 'MjMwNTc0ODEyMjAwNDE0ODc5Nw==.2', 'filter_type': 0, 'image_versions2': {'candidates': [{'width': 484, 'height': 484, 'url': 'https://instagram.fdel3-2.fna.fbcdn.net/v/t51.2885-15/e35/95973880_242462176828723_6307596521108972216_n.jpg?_nc_ht=instagram.fdel3-2.fna.fbcdn.net&_nc_cat=107&_nc_ohc=YycDOB6_3IMAX9f88Oc&oh=1596d86dcbbacc5edbee39e3598d3238&oe=5F037AF2&ig_cache_key=MjMwNTc0ODEyMjAwNDE0ODc5Nw%3D%3D.2', 'scans_profile': 'e35', 'estimated_scans_sizes': [5978, 11957, 17936, 23915, 29893, 37317, 481954, 53809, 53809]}, {'width': 240, 'height': 240, 'url': 'https://instagram.fdel3-2.fna.fbcdn.net/v/t51.2885-15/e35/s240x240/95973880_242462176828723_6307596521108972216_n.jpg?_nc_ht=instagram.fdel3-2.fna.fbcdn.net&_nc_cat=107&_nc_ohc=YycDOB6_3IMAX9f88Oc&oh=30c726b1ea95121319abd3739e0ed24c&oe=5F05E1FA&ig_cache_key=MjMwNTc0ODEyMjAwNDE0ODc5Nw%3D%3D.2', 'scans_profile': 'e35', 'estimated_scans_sizes': [2144, 4288, 6433, 8577, 10721, 13384, 172859, 19299, 19299]}]}, 'original_width': 484, 'original_height': 484, 'user': {'pk': 6156935295, 'username': 'ericawilliams969', 'full_name': 'erica williams', 'is_private': True, 'profile_pic_url': 'https://instagram.fdel3-2.fna.fbcdn.net/v/t51.2885-19/s150x150/22221104_531749390493992_9145330191868887040_n.jpg?_nc_ht=instagram.fdel3-2.fna.fbcdn.net&_nc_ohc=cdW6jRFtGW0AX-SGJKn&oh=98751664ee5a7c546343dc7b90917c6f&oe=5F06D1C6', 'profile_pic_id': '1618249894493837521_6156935295', 'is_verified': False, 'has_anonymous_profile_picture': False, 'can_boost_post': False, 'can_see_organic_insights': False, 'show_insights_terms': False, 'reel_auto_archive': 'unset', 'is_unpublished': False, 'allowed_commenter_type': 'any', 'latest_reel_media': 0}, 'can_viewer_reshare': True, 'caption_is_edited': True, 'comment_likes_enabled': True, 'comment_threading_enabled': False, 'has_more_comments': False, 'max_num_visible_preview_comments': 2, 'preview_comments': [], 'can_view_more_preview_comments': False, 'comment_count': 0, 'inline_composer_display_condition': 'impression_trigger', 'like_count': 0, 'has_liked': False, 'top_likers': [], 'likers': [], 'photo_of_you': False, 'can_see_insights_as_brand': False, 'caption': {'pk': 18147194683027843, 'user_id': 6156935295, 'text': 'Trying to escape from my sad life.. i want to end this', 'type': 1, 'created_at': 1589094353, 'created_at_utc': 1589094353, 'content_type': 'comment', 'status': 'Active', 'bit_flags': 0, 'did_report_as_spam': False, 'share_enabled': False, 'user': {'pk': 6156935295, 'username': 'ericawilliams969', 'full_name': 'erica williams', 'is_private': True, 'profile_pic_url': 'https://instagram.fdel3-2.fna.fbcdn.net/v/t51.2885-19/s150x150/22221104_531749390493992_9145330191868887040_n.jpg?_nc_ht=instagram.fdel3-2.fna.fbcdn.net&_nc_ohc=cdW6jRFtGW0AX-SGJKn&oh=98751664ee5a7c546343dc7b90917c6f&oe=5F06D1C6', 'profile_pic_id': '1618249894493837521_6156935295', 'is_verified': False, 'has_anonymous_profile_picture': False, 'can_boost_post': False, 'can_see_organic_insights': False, 'show_insights_terms': False, 'reel_auto_archive': 'unset', 'is_unpublished': False, 'allowed_commenter_type': 'any', 'latest_reel_media': 0}, 'media_id': 2305748122004148797}, 'fb_user_tags': {'in': []}, 'can_viewer_save': True, 'organic_tracking_token': 'eyJ2ZXJzaW9uIjo1LCJwYXlsb2FkIjp7ImlzX2FuYWx5dGljc190cmFja2VkIjpmYWxzZSwidXVpZCI6IjU5OWU1NjI1MmNkMTQ0NzI4ZjNhNmRlMmI0NDg0YjA4MjMwNTc0ODEyMjAwNDE0ODc5NyIsInNlcnZlcl90b2tlbiI6IjE1OTE0MzcyMDA5ODl8MjMwNTc0ODEyMjAwNDE0ODc5N3w2MTU2OTM1Mjk1fDIwNDRmNzAyOGRmNzc2ZWU3ZmFhMWU3MDFmZjdjNzY0ZmUzYzdkYmQ1MTMxMWQ4NWNiZTQyMDBhOTUwYzgxMjUifSwic2lnbmF0dXJlIjoiIn0='}, {'taken_at': 1589086587, 'pk': 2305747868450155997, 'id': '2305747868450155997_6156935295', 'device_timestamp': 167528431776507, 'media_type': 1, 'code': 'B__qXhQle3dYEBOgcy8IPHEsuf_N31usK9qod40', 'client_cache_key': 'MjMwNTc0Nzg2ODQ1MDE1NTk5Nw==.2', 'filter_type': 0, 'image_versions2': {'candidates': [{'width': 488, 'height': 488, 'url': 'https://instagram.fdel3-1.fna.fbcdn.net/v/t51.2885-15/e35/96173059_686063942213643_8476208432762304644_n.jpg?_nc_ht=instagram.fdel3-1.fna.fbcdn.net&_nc_cat=103&_nc_ohc=HoM9j-7j6q4AX_7-gIR&oh=92125e7a42d491964d39a81b1f4a728d&oe=5F06E6F4&ig_cache_key=MjMwNTc0Nzg2ODQ1MDE1NTk5Nw%3D%3D.2', 'scans_profile': 'e35', 'estimated_scans_sizes': [4140, 8281, 12422, 16563, 20704, 25845, 333804, 37268, 37268]}, {'width': 240, 'height': 240, 'url': 'https://instagram.fdel3-1.fna.fbcdn.net/v/t51.2885-15/e35/s240x240/96173059_686063942213643_8476208432762304644_n.jpg?_nc_ht=instagram.fdel3-1.fna.fbcdn.net&_nc_cat=103&_nc_ohc=HoM9j-7j6q4AX_7-gIR&oh=ccfaef558b3d84ef442652790623fe15&oe=5F04D87C&ig_cache_key=MjMwNTc0Nzg2ODQ1MDE1NTk5Nw%3D%3D.2', 'scans_profile': 'e35', 'estimated_scans_sizes': [1467, 2934, 4402, 5869, 7337, 9159, 118291, 13207, 13207]}]}, 'original_width': 488, 'original_height': 488, 'user': {'pk': 6156935295, 'username': 'ericawilliams969', 'full_name': 'erica williams', 'is_private': True, 'profile_pic_url': 'https://instagram.fdel3-2.fna.fbcdn.net/v/t51.2885-19/s150x150/22221104_531749390493992_9145330191868887040_n.jpg?_nc_ht=instagram.fdel3-2.fna.fbcdn.net&_nc_ohc=cdW6jRFtGW0AX-SGJKn&oh=98751664ee5a7c546343dc7b90917c6f&oe=5F06D1C6', 'profile_pic_id': '1618249894493837521_6156935295', 'is_verified': False, 'has_anonymous_profile_picture': False, 'can_boost_post': False, 'can_see_organic_insights': False, 'show_insights_terms': False, 'reel_auto_archive': 'unset', 'is_unpublished': False, 'allowed_commenter_type': 'any', 'latest_reel_media': 0}, 'can_viewer_reshare': True, 'caption_is_edited': True, 'comment_likes_enabled': True, 'comment_threading_enabled': False, 'has_more_comments': False, 'max_num_visible_preview_comments': 2, 'preview_comments': [], 'can_view_more_preview_comments': False, 'comment_count': 0, 'inline_composer_display_condition': 'impression_trigger', 'like_count': 0, 'has_liked': False, 'top_likers': [], 'likers': [], 'photo_of_you': False, 'can_see_insights_as_brand': False, 'caption': {'pk': 17893471696505442, 'user_id': 6156935295, 'text': 'Alone in this world and that is awful nd i want to end this life', 'type': 1, 'created_at': 1589093882, 'created_at_utc': 1589093882, 'content_type': 'comment', 'status': 'Active', 'bit_flags': 0, 'did_report_as_spam': False, 'share_enabled': False, 'user': {'pk': 6156935295, 'username': 'ericawilliams969', 'full_name': 'erica williams', 'is_private': True, 'profile_pic_url': 'https://instagram.fdel3-2.fna.fbcdn.net/v/t51.2885-19/s150x150/22221104_531749390493992_9145330191868887040_n.jpg?_nc_ht=instagram.fdel3-2.fna.fbcdn.net&_nc_ohc=cdW6jRFtGW0AX-SGJKn&oh=98751664ee5a7c546343dc7b90917c6f&oe=5F06D1C6', 'profile_pic_id': '1618249894493837521_6156935295', 'is_verified': False, 'has_anonymous_profile_picture': False, 'can_boost_post': False, 'can_see_organic_insights': False, 'show_insights_terms': False, 'reel_auto_archive': 'unset', 'is_unpublished': False, 'allowed_commenter_type': 'any', 'latest_reel_media': 0}, 'media_id': 2305747868450155997}, 'fb_user_tags': {'in': []}, 'can_viewer_save': True, 'organic_tracking_token': 'eyJ2ZXJzaW9uIjo1LCJwYXlsb2FkIjp7ImlzX2FuYWx5dGljc190cmFja2VkIjpmYWxzZSwidXVpZCI6IjU5OWU1NjI1MmNkMTQ0NzI4ZjNhNmRlMmI0NDg0YjA4MjMwNTc0Nzg2ODQ1MDE1NTk5NyIsInNlcnZlcl90b2tlbiI6IjE1OTE0MzcyMDA5OTB8MjMwNTc0Nzg2ODQ1MDE1NTk5N3w2MTU2OTM1Mjk1fDg1Yzc1MmNmMTE3NGUxOWQyNDZkM2FjNzgzODEzNWZjODgzZDBiNWUxYTk4YmEyNzhhZWFlOTE1NjQxMWQxZjYifSwic2lnbmF0dXJlIjoiIn0='}, {'taken_at': 1589086546, 'pk': 2305747532050315161, 'id': '2305747532050315161_6156935295', 'device_timestamp': 167459925048304, 'media_type': 1, 'code': 'B__qSn9l7eZln2b8ayceeRYZ_Ax3a2rn56V7oA0', 'client_cache_key': 'MjMwNTc0NzUzMjA1MDMxNTE2MQ==.2', 'filter_type': 0, 'image_versions2': {'candidates': [{'width': 459, 'height': 459, 'url': 'https://instagram.fdel3-1.fna.fbcdn.net/v/t51.2885-15/e35/96045379_3064646443558323_120088563108402774_n.jpg?_nc_ht=instagram.fdel3-1.fna.fbcdn.net&_nc_cat=103&_nc_ohc=CMeNzSaANTIAX9GnMJE&oh=2259591ae5e50660bf06550db30900cb&oe=5F04B799&ig_cache_key=MjMwNTc0NzUzMjA1MDMxNTE2MQ%3D%3D.2', 'scans_profile': 'e35', 'estimated_scans_sizes': [1724, 3449, 5174, 6898, 8623, 10764, 139030, 15522, 15522]}, {'width': 240, 'height': 240, 'url': 'https://instagram.fdel3-1.fna.fbcdn.net/v/t51.2885-15/e35/s240x240/96045379_3064646443558323_120088563108402774_n.jpg?_nc_ht=instagram.fdel3-1.fna.fbcdn.net&_nc_cat=103&_nc_ohc=CMeNzSaANTIAX9GnMJE&oh=2ced932a72c086d5d71c42bc4c6c20bb&oe=5F04DD91&ig_cache_key=MjMwNTc0NzUzMjA1MDMxNTE2MQ%3D%3D.2', 'scans_profile': 'e35', 'estimated_scans_sizes': [668, 1336, 2005, 2673, 3342, 4172, 53884, 6016, 6016]}]}, 'original_width': 459, 'original_height': 459, 'user': {'pk': 6156935295, 'username': 'ericawilliams969', 'full_name': 'erica williams', 'is_private': True, 'profile_pic_url': 'https://instagram.fdel3-2.fna.fbcdn.net/v/t51.2885-19/s150x150/22221104_531749390493992_9145330191868887040_n.jpg?_nc_ht=instagram.fdel3-2.fna.fbcdn.net&_nc_ohc=cdW6jRFtGW0AX-SGJKn&oh=98751664ee5a7c546343dc7b90917c6f&oe=5F06D1C6', 'profile_pic_id': '1618249894493837521_6156935295', 'is_verified': False, 'has_anonymous_profile_picture': False, 'can_boost_post': False, 'can_see_organic_insights': False, 'show_insights_terms': False, 'reel_auto_archive': 'unset', 'is_unpublished': False, 'allowed_commenter_type': 'any', 'latest_reel_media': 0}, 'can_viewer_reshare': True, 'caption_is_edited': True, 'comment_likes_enabled': True, 'comment_threading_enabled': False, 'has_more_comments': False, 'max_num_visible_preview_comments': 2, 'preview_comments': [], 'can_view_more_preview_comments': False, 'comment_count': 0, 'inline_composer_display_condition': 'impression_trigger', 'like_count': 0, 'has_liked': False, 'top_likers': [], 'likers': [], 'photo_of_you': False, 'can_see_insights_as_brand': False, 'caption': {'pk': 17876405152635776, 'user_id': 6156935295, 'text': 'It is blurr as my choice to live my life i am depressed in this state which is pathetic', 'type': 1, 'created_at': 1589094272, 'created_at_utc': 1589094272, 'content_type': 'comment', 'status': 'Active', 'bit_flags': 0, 'did_report_as_spam': False, 'share_enabled': False, 'user': {'pk': 6156935295, 'username': 'ericawilliams969', 'full_name': 'erica williams', 'is_private': True, 'profile_pic_url': 'https://instagram.fdel3-2.fna.fbcdn.net/v/t51.2885-19/s150x150/22221104_531749390493992_9145330191868887040_n.jpg?_nc_ht=instagram.fdel3-2.fna.fbcdn.net&_nc_ohc=cdW6jRFtGW0AX-SGJKn&oh=98751664ee5a7c546343dc7b90917c6f&oe=5F06D1C6', 'profile_pic_id': '1618249894493837521_6156935295', 'is_verified': False, 'has_anonymous_profile_picture': False, 'can_boost_post': False, 'can_see_organic_insights': False, 'show_insights_terms': False, 'reel_auto_archive': 'unset', 'is_unpublished': False, 'allowed_commenter_type': 'any', 'latest_reel_media': 0}, 'media_id': 2305747532050315161}, 'fb_user_tags': {'in': []}, 'can_viewer_save': True, 'organic_tracking_token': 'eyJ2ZXJzaW9uIjo1LCJwYXlsb2FkIjp7ImlzX2FuYWx5dGljc190cmFja2VkIjpmYWxzZSwidXVpZCI6IjU5OWU1NjI1MmNkMTQ0NzI4ZjNhNmRlMmI0NDg0YjA4MjMwNTc0NzUzMjA1MDMxNTE2MSIsInNlcnZlcl90b2tlbiI6IjE1OTE0MzcyMDA5OTB8MjMwNTc0NzUzMjA1MDMxNTE2MXw2MTU2OTM1Mjk1fGExZDYxYWQzZDUyMGUxYjNkZTkxNmMzMWE2ZmNmYWM1YmJhMjljZWRmYmQ4MGI0NWJjOGVkOTIxNGE2ZGEyODkifSwic2lnbmF0dXJlIjoiIn0='}, {'taken_at': 1513074775, 'pk': 1668114576779889418, 'id': '1668114576779889418_6156935295', 'device_timestamp': 1513074743519, 'media_type': 1, 'code': 'BcmVV6ZncsK9CGkFeHeHrq9fJNTVvhmDZT3HQw0', 'client_cache_key': 'MTY2ODExNDU3Njc3OTg4OTQxOA==.2', 'filter_type': 0, 'image_versions2': {'candidates': [{'width': 640, 'height': 640, 'url': 'https://instagram.fdel3-1.fna.fbcdn.net/v/t51.2885-15/sh0.08/e35/s640x640/25007993_164066904202912_6978239000255397888_n.jpg?_nc_ht=instagram.fdel3-1.fna.fbcdn.net&_nc_cat=104&_nc_ohc=9LKNci6KbhYAX-rsiK3&oh=68a96adb24386b40df7b7d4a20f55813&oe=5F0508CF&ig_cache_key=MTY2ODExNDU3Njc3OTg4OTQxOA%3D%3D.2', 'scans_profile': 'e35', 'estimated_scans_sizes': [4350, 8701, 13052, 17403, 21753, 24342, 30977, 35207, 39157]}, {'width': 240, 'height': 240, 'url': 'https://instagram.fdel3-1.fna.fbcdn.net/v/t51.2885-15/e35/s240x240/25007993_164066904202912_6978239000255397888_n.jpg?_nc_ht=instagram.fdel3-1.fna.fbcdn.net&_nc_cat=104&_nc_ohc=9LKNci6KbhYAX-rsiK3&oh=fa2082eaf3beaf6093153fab75723145&oe=5F0676A4&ig_cache_key=MTY2ODExNDU3Njc3OTg4OTQxOA%3D%3D.2', 'scans_profile': 'e35', 'estimated_scans_sizes': [1191, 2383, 3575, 4766, 5958, 7173, 207013, 10725, 10725]}]}, 'original_width': 834, 'original_height': 834, 'user': {'pk': 6156935295, 'username': 'ericawilliams969', 'full_name': 'erica williams', 'is_private': True, 'profile_pic_url': 'https://instagram.fdel3-2.fna.fbcdn.net/v/t51.2885-19/s150x150/22221104_531749390493992_9145330191868887040_n.jpg?_nc_ht=instagram.fdel3-2.fna.fbcdn.net&_nc_ohc=cdW6jRFtGW0AX-SGJKn&oh=98751664ee5a7c546343dc7b90917c6f&oe=5F06D1C6', 'profile_pic_id': '1618249894493837521_6156935295', 'is_verified': False, 'has_anonymous_profile_picture': False, 'can_boost_post': False, 'can_see_organic_insights': False, 'show_insights_terms': False, 'reel_auto_archive': 'unset', 'is_unpublished': False, 'allowed_commenter_type': 'any', 'latest_reel_media': 0}, 'can_viewer_reshare': True, 'caption_is_edited': True, 'comment_likes_enabled': True, 'comment_threading_enabled': False, 'has_more_comments': False, 'max_num_visible_preview_comments': 2, 'preview_comments': [], 'can_view_more_preview_comments': False, 'comment_count': 0, 'inline_composer_display_condition': 'impression_trigger', 'like_count': 3, 'has_liked': False, 'top_likers': [], 'likers': [{'pk': 5398495696, 'username': 'josh.yxrx', 'full_name': '', 'is_private': True, 'profile_pic_url': 'https://instagram.fdel3-2.fna.fbcdn.net/v/t51.2885-19/s150x150/97251078_2709399582622724_5279761257832906752_n.jpg?_nc_ht=instagram.fdel3-2.fna.fbcdn.net&_nc_ohc=e-mbAdBpJioAX84kbgn&oh=2abb416550554d4b54dd2f67312a1fee&oe=5F03D2E1', 'profile_pic_id': '2309889834524508837_5398495696', 'is_verified': False}, {'pk': 6196710087, 'username': 'benleshoele', 'full_name': 'Ben Leshoele', 'is_private': True, 'profile_pic_url': 'https://instagram.fdel3-2.fna.fbcdn.net/v/t51.2885-19/s150x150/22426710_121413038525478_7033665123713548288_n.jpg?_nc_ht=instagram.fdel3-2.fna.fbcdn.net&_nc_ohc=Xjpw4btrzNcAX-x-WF0&oh=1e2ae61d08fb57b912983d06b9d197ad&oe=5F06A244', 'profile_pic_id': '1623003625265474119_6196710087', 'is_verified': False}, {'pk': 1936270608, 'username': '_metaphour', 'full_name': 'Nithin C jøhn', 'is_private': False, 'profile_pic_url': 'https://instagram.fdel3-2.fna.fbcdn.net/v/t51.2885-19/s150x150/94492869_588206575386748_2781580512068632576_n.jpg?_nc_ht=instagram.fdel3-2.fna.fbcdn.net&_nc_ohc=da1gULCqEvQAX_244Qx&oh=c5e66a51961dcda041cf76fb4bccf939&oe=5F061BEB', 'profile_pic_id': '2296716637787530472_1936270608', 'is_verified': False}], 'photo_of_you': False, 'can_see_insights_as_brand': False, 'caption': {'pk': 18143612911024968, 'user_id': 6156935295, 'text': \"I wish like this coffee i can also be still i don't want to livee forever\", 'type': 1, 'created_at': 1589079336, 'created_at_utc': 1589079336, 'content_type': 'comment', 'status': 'Active', 'bit_flags': 0, 'did_report_as_spam': False, 'share_enabled': False, 'user': {'pk': 6156935295, 'username': 'ericawilliams969', 'full_name': 'erica williams', 'is_private': True, 'profile_pic_url': 'https://instagram.fdel3-2.fna.fbcdn.net/v/t51.2885-19/s150x150/22221104_531749390493992_9145330191868887040_n.jpg?_nc_ht=instagram.fdel3-2.fna.fbcdn.net&_nc_ohc=cdW6jRFtGW0AX-SGJKn&oh=98751664ee5a7c546343dc7b90917c6f&oe=5F06D1C6', 'profile_pic_id': '1618249894493837521_6156935295', 'is_verified': False, 'has_anonymous_profile_picture': False, 'can_boost_post': False, 'can_see_organic_insights': False, 'show_insights_terms': False, 'reel_auto_archive': 'unset', 'is_unpublished': False, 'allowed_commenter_type': 'any', 'latest_reel_media': 0}, 'media_id': 1668114576779889418}, 'fb_user_tags': {'in': []}, 'can_viewer_save': True, 'organic_tracking_token': 'eyJ2ZXJzaW9uIjo1LCJwYXlsb2FkIjp7ImlzX2FuYWx5dGljc190cmFja2VkIjpmYWxzZSwidXVpZCI6IjU5OWU1NjI1MmNkMTQ0NzI4ZjNhNmRlMmI0NDg0YjA4MTY2ODExNDU3Njc3OTg4OTQxOCIsInNlcnZlcl90b2tlbiI6IjE1OTE0MzcyMDA5OTF8MTY2ODExNDU3Njc3OTg4OTQxOHw2MTU2OTM1Mjk1fDgwYjViYWZmOGRmOGFiNWU2Yjg5MzNmZjQzNzYwMzY2YTQwMzY3MDQwZjU4ZmZlNzViZGM4ZjhiNDMxYTk4NzQifSwic2lnbmF0dXJlIjoiIn0='}, {'taken_at': 1507217916, 'pk': 1618983686275626437, 'id': '1618983686275626437_6156935295', 'device_timestamp': 1507217913304, 'media_type': 1, 'code': 'BZ3yRW9nHXF_X6Rmg4BTbAgTgn3-mK90em4hUk0', 'client_cache_key': 'MTYxODk4MzY4NjI3NTYyNjQzNw==.2', 'filter_type': 0, 'image_versions2': {'candidates': [{'width': 640, 'height': 640, 'url': 'https://instagram.fdel3-1.fna.fbcdn.net/v/t51.2885-15/sh0.08/e35/s640x640/22158614_120358305298456_6710368164951097344_n.jpg?_nc_ht=instagram.fdel3-1.fna.fbcdn.net&_nc_cat=104&_nc_ohc=je2hL_oOvBAAX_27e3O&oh=6704b6ba582fbf84a1ee756417917cd8&oe=5F0473F1&ig_cache_key=MTYxODk4MzY4NjI3NTYyNjQzNw%3D%3D.2', 'scans_profile': 'e35', 'estimated_scans_sizes': [5226, 10452, 15679, 20905, 26132, 29241, 37211, 42292, 47038]}, {'width': 240, 'height': 240, 'url': 'https://instagram.fdel3-1.fna.fbcdn.net/v/t51.2885-15/e35/s240x240/22158614_120358305298456_6710368164951097344_n.jpg?_nc_ht=instagram.fdel3-1.fna.fbcdn.net&_nc_cat=104&_nc_ohc=je2hL_oOvBAAX_27e3O&oh=200537c4bf2a9eb970820d551837c1d0&oe=5F04631E&ig_cache_key=MTYxODk4MzY4NjI3NTYyNjQzNw%3D%3D.2', 'scans_profile': 'e35', 'estimated_scans_sizes': [1282, 2565, 3848, 5131, 6413, 7721, 222843, 11545, 11545]}]}, 'original_width': 874, 'original_height': 874, 'user': {'pk': 6156935295, 'username': 'ericawilliams969', 'full_name': 'erica williams', 'is_private': True, 'profile_pic_url': 'https://instagram.fdel3-2.fna.fbcdn.net/v/t51.2885-19/s150x150/22221104_531749390493992_9145330191868887040_n.jpg?_nc_ht=instagram.fdel3-2.fna.fbcdn.net&_nc_ohc=cdW6jRFtGW0AX-SGJKn&oh=98751664ee5a7c546343dc7b90917c6f&oe=5F06D1C6', 'profile_pic_id': '1618249894493837521_6156935295', 'is_verified': False, 'has_anonymous_profile_picture': False, 'can_boost_post': False, 'can_see_organic_insights': False, 'show_insights_terms': False, 'reel_auto_archive': 'unset', 'is_unpublished': False, 'allowed_commenter_type': 'any', 'latest_reel_media': 0}, 'can_viewer_reshare': True, 'caption_is_edited': True, 'comment_likes_enabled': True, 'comment_threading_enabled': False, 'has_more_comments': False, 'max_num_visible_preview_comments': 2, 'preview_comments': [], 'can_view_more_preview_comments': False, 'comment_count': 0, 'inline_composer_display_condition': 'impression_trigger', 'like_count': 8, 'has_liked': False, 'top_likers': ['shariqkhan2050'], 'facepile_top_likers': [{'pk': 4254586503, 'username': 'shariqkhan2050', 'full_name': 'Shariq Khan', 'is_private': True, 'profile_pic_url': 'https://instagram.fdel3-2.fna.fbcdn.net/v/t51.2885-19/s150x150/95632714_947678582313182_4466953948493774848_n.jpg?_nc_ht=instagram.fdel3-2.fna.fbcdn.net&_nc_ohc=jq_4QEIf4eAAX8xjHa-&oh=9b4afb26a91fa5d945e0b26c2e266b1f&oe=5F06D3A9', 'profile_pic_id': '2298110992183571326_4254586503', 'is_verified': False}], 'likers': [{'pk': 4254586503, 'username': 'shariqkhan2050', 'full_name': 'Shariq Khan', 'is_private': True, 'profile_pic_url': 'https://instagram.fdel3-2.fna.fbcdn.net/v/t51.2885-19/s150x150/95632714_947678582313182_4466953948493774848_n.jpg?_nc_ht=instagram.fdel3-2.fna.fbcdn.net&_nc_ohc=jq_4QEIf4eAAX8xjHa-&oh=9b4afb26a91fa5d945e0b26c2e266b1f&oe=5F06D3A9', 'profile_pic_id': '2298110992183571326_4254586503', 'is_verified': False}, {'pk': 10711972, 'username': 'lorenzomitil', 'full_name': 'lorenzo mitil', 'is_private': False, 'profile_pic_url': 'https://instagram.fdel3-2.fna.fbcdn.net/v/t51.2885-19/s150x150/92203322_607364643180845_2169717710143881216_n.jpg?_nc_ht=instagram.fdel3-2.fna.fbcdn.net&_nc_ohc=pHGk20Nc1xoAX_TwO04&oh=4fcf00efd88548c8f9040361987854bc&oe=5F05E3BA', 'profile_pic_id': '2282409739345666560_10711972', 'is_verified': False}, {'pk': 4543389520, 'username': 'naikin.kami.followers.aktif', 'full_name': 'Naikin  Followers Aktif', 'is_private': False, 'profile_pic_url': 'https://instagram.fdel3-2.fna.fbcdn.net/v/t51.2885-19/s150x150/17077274_342864982775481_419548009089466368_a.jpg?_nc_ht=instagram.fdel3-2.fna.fbcdn.net&_nc_ohc=OS8mu1CT5uMAX-_Aks_&oh=d61360f40d361e72389bc4135fa57b87&oe=5F0506E0', 'profile_pic_id': '1470223892362528356_4543389520', 'is_verified': False}, {'pk': 5336638860, 'username': 'neerajalawa', 'full_name': 'Neeraj Alawa', 'is_private': False, 'profile_pic_url': 'https://instagram.fdel3-2.fna.fbcdn.net/v/t51.2885-19/s150x150/33956937_230038264439563_243197390650081280_n.jpg?_nc_ht=instagram.fdel3-2.fna.fbcdn.net&_nc_ohc=0feVDswJJKMAX-RvpKn&oh=2fa0ca75b04786acf6dcb0124ae75585&oe=5F055494', 'profile_pic_id': '1795620909601328174_5336638860', 'is_verified': False}, {'pk': 277281338, 'username': 'calebthill', 'full_name': 'Caleb Thill', 'is_private': False, 'profile_pic_url': 'https://instagram.fdel3-2.fna.fbcdn.net/v/t51.2885-19/s150x150/14474478_919263581540844_541426145724203008_a.jpg?_nc_ht=instagram.fdel3-2.fna.fbcdn.net&_nc_ohc=AuEO_Pza0RUAX-Oa_Db&oh=38586f968b71c130edeaf9a1bdee4c5c&oe=5F03DD8F', 'profile_pic_id': '1354774449321502590_277281338', 'is_verified': False}, {'pk': 1028514877, 'username': 'babyzhuai', 'full_name': '拽宝👶🏻', 'is_private': False, 'profile_pic_url': 'https://instagram.fdel3-2.fna.fbcdn.net/v/t51.2885-19/s150x150/95944201_668637587014477_7204975529311600640_n.jpg?_nc_ht=instagram.fdel3-2.fna.fbcdn.net&_nc_ohc=6wIznla5c8YAX8l1EL0&oh=35e88202a57f36a9eb857f9e67e33029&oe=5F043CCF', 'profile_pic_id': '2302097642317207744_1028514877', 'is_verified': False}, {'pk': 16907905, 'username': 'scott_perez', 'full_name': 'Scott Perez | Houston Blogger', 'is_private': False, 'profile_pic_url': 'https://instagram.fdel3-2.fna.fbcdn.net/v/t51.2885-19/s150x150/39370556_1690594574384683_7642944300946292736_n.jpg?_nc_ht=instagram.fdel3-2.fna.fbcdn.net&_nc_ohc=NJ9zfVU2E80AX8aTjoP&oh=405336622cc66cc68da5566d8e0f37f4&oe=5F06C3C8', 'profile_pic_id': '1857150078735414706_16907905', 'is_verified': False}, {'pk': 1496495872, 'username': 'thekuldeepsinghania', 'full_name': 'Kuldeep Singhania', 'is_private': False, 'profile_pic_url': 'https://instagram.fdel3-2.fna.fbcdn.net/v/t51.2885-19/s150x150/98106447_268720311167695_8033924764563144704_n.jpg?_nc_ht=instagram.fdel3-2.fna.fbcdn.net&_nc_ohc=4uAdKdfgupMAX8czwEp&oh=0cc1df764398b12e42cbcd5d83549157&oe=5F05B09A', 'profile_pic_id': '2312541605272101509_1496495872', 'is_verified': False}], 'photo_of_you': False, 'can_see_insights_as_brand': False, 'caption': {'pk': 18104152540135524, 'user_id': 6156935295, 'text': 'I want to hang due to my own ill pain and griefs. And cut myself out from this exhausting world', 'type': 1, 'created_at': 1589094608, 'created_at_utc': 1589094608, 'content_type': 'comment', 'status': 'Active', 'bit_flags': 0, 'did_report_as_spam': False, 'share_enabled': False, 'user': {'pk': 6156935295, 'username': 'ericawilliams969', 'full_name': 'erica williams', 'is_private': True, 'profile_pic_url': 'https://instagram.fdel3-2.fna.fbcdn.net/v/t51.2885-19/s150x150/22221104_531749390493992_9145330191868887040_n.jpg?_nc_ht=instagram.fdel3-2.fna.fbcdn.net&_nc_ohc=cdW6jRFtGW0AX-SGJKn&oh=98751664ee5a7c546343dc7b90917c6f&oe=5F06D1C6', 'profile_pic_id': '1618249894493837521_6156935295', 'is_verified': False, 'has_anonymous_profile_picture': False, 'can_boost_post': False, 'can_see_organic_insights': False, 'show_insights_terms': False, 'reel_auto_archive': 'unset', 'is_unpublished': False, 'allowed_commenter_type': 'any', 'latest_reel_media': 0}, 'media_id': 1618983686275626437}, 'fb_user_tags': {'in': []}, 'can_viewer_save': True, 'organic_tracking_token': 'eyJ2ZXJzaW9uIjo1LCJwYXlsb2FkIjp7ImlzX2FuYWx5dGljc190cmFja2VkIjpmYWxzZSwidXVpZCI6IjU5OWU1NjI1MmNkMTQ0NzI4ZjNhNmRlMmI0NDg0YjA4MTYxODk4MzY4NjI3NTYyNjQzNyIsInNlcnZlcl90b2tlbiI6IjE1OTE0MzcyMDA5OTF8MTYxODk4MzY4NjI3NTYyNjQzN3w2MTU2OTM1Mjk1fDI2ZWUyMWZlYzE4YmRhNmFjNjRiOGFlZTlmMjJmZDQwMjhlZDc2ODMxZGVhOTQyOWM2ZjEwZTBkMTBmMmY5ODgifSwic2lnbmF0dXJlIjoiIn0='}, {'taken_at': 1507134452, 'pk': 1618283536335089343, 'id': '1618283536335089343_6156935295', 'device_timestamp': 1507134429108, 'media_type': 1, 'code': 'BZ1TE1hHa6_jwifJeJ-7LlaNv3P1iCNOGw-AYA0', 'client_cache_key': 'MTYxODI4MzUzNjMzNTA4OTM0Mw==.2', 'filter_type': 0, 'image_versions2': {'candidates': [{'width': 640, 'height': 640, 'url': 'https://instagram.fdel3-2.fna.fbcdn.net/v/t51.2885-15/sh0.08/e35/s640x640/22159410_2060157420880043_6713345973151596544_n.jpg?_nc_ht=instagram.fdel3-2.fna.fbcdn.net&_nc_cat=111&_nc_ohc=umYC2LEdu28AX_WUzMW&oh=c14483366748e89701bab958e5bc3f27&oe=5F04F966&ig_cache_key=MTYxODI4MzUzNjMzNTA4OTM0Mw%3D%3D.2', 'scans_profile': 'e35', 'estimated_scans_sizes': [3524, 7048, 10572, 14096, 17620, 19717, 25090, 28516, 31716]}, {'width': 240, 'height': 240, 'url': 'https://instagram.fdel3-2.fna.fbcdn.net/v/t51.2885-15/e35/s240x240/22159410_2060157420880043_6713345973151596544_n.jpg?_nc_ht=instagram.fdel3-2.fna.fbcdn.net&_nc_cat=111&_nc_ohc=umYC2LEdu28AX_WUzMW&oh=a4d13cf181570c9cffee18b2345a2c38&oe=5F0373E7&ig_cache_key=MTYxODI4MzUzNjMzNTA4OTM0Mw%3D%3D.2', 'scans_profile': 'e35', 'estimated_scans_sizes': [1074, 2149, 3224, 4299, 5373, 6469, 186706, 9673, 9673]}]}, 'original_width': 1080, 'original_height': 1080, 'user': {'pk': 6156935295, 'username': 'ericawilliams969', 'full_name': 'erica williams', 'is_private': True, 'profile_pic_url': 'https://instagram.fdel3-2.fna.fbcdn.net/v/t51.2885-19/s150x150/22221104_531749390493992_9145330191868887040_n.jpg?_nc_ht=instagram.fdel3-2.fna.fbcdn.net&_nc_ohc=cdW6jRFtGW0AX-SGJKn&oh=98751664ee5a7c546343dc7b90917c6f&oe=5F06D1C6', 'profile_pic_id': '1618249894493837521_6156935295', 'is_verified': False, 'has_anonymous_profile_picture': False, 'can_boost_post': False, 'can_see_organic_insights': False, 'show_insights_terms': False, 'reel_auto_archive': 'unset', 'is_unpublished': False, 'allowed_commenter_type': 'any', 'latest_reel_media': 0}, 'can_viewer_reshare': True, 'caption_is_edited': True, 'comment_likes_enabled': True, 'comment_threading_enabled': False, 'has_more_comments': False, 'max_num_visible_preview_comments': 2, 'preview_comments': [], 'can_view_more_preview_comments': False, 'comment_count': 0, 'inline_composer_display_condition': 'impression_trigger', 'like_count': 5, 'has_liked': False, 'top_likers': ['shariqkhan2050'], 'facepile_top_likers': [{'pk': 4254586503, 'username': 'shariqkhan2050', 'full_name': 'Shariq Khan', 'is_private': True, 'profile_pic_url': 'https://instagram.fdel3-2.fna.fbcdn.net/v/t51.2885-19/s150x150/95632714_947678582313182_4466953948493774848_n.jpg?_nc_ht=instagram.fdel3-2.fna.fbcdn.net&_nc_ohc=jq_4QEIf4eAAX8xjHa-&oh=9b4afb26a91fa5d945e0b26c2e266b1f&oe=5F06D3A9', 'profile_pic_id': '2298110992183571326_4254586503', 'is_verified': False}], 'likers': [{'pk': 4254586503, 'username': 'shariqkhan2050', 'full_name': 'Shariq Khan', 'is_private': True, 'profile_pic_url': 'https://instagram.fdel3-2.fna.fbcdn.net/v/t51.2885-19/s150x150/95632714_947678582313182_4466953948493774848_n.jpg?_nc_ht=instagram.fdel3-2.fna.fbcdn.net&_nc_ohc=jq_4QEIf4eAAX8xjHa-&oh=9b4afb26a91fa5d945e0b26c2e266b1f&oe=5F06D3A9', 'profile_pic_id': '2298110992183571326_4254586503', 'is_verified': False}, {'pk': 184344111, 'username': 'luislavenant', 'full_name': 'Luis Lavenant | Business coach', 'is_private': False, 'profile_pic_url': 'https://instagram.fdel3-2.fna.fbcdn.net/v/t51.2885-19/s150x150/83627181_3992784324096331_7304275615576752128_n.jpg?_nc_ht=instagram.fdel3-2.fna.fbcdn.net&_nc_ohc=Waby4MbWo8kAX91tLsQ&oh=f770c8634dc68271eeb891e04559eb7f&oe=5F03DDEC', 'profile_pic_id': '2321816781008008988_184344111', 'is_verified': False}, {'pk': 1477212907, 'username': 'ohheynag', 'full_name': 'Najee Dennie ( Na-G)', 'is_private': False, 'profile_pic_url': 'https://instagram.fdel3-2.fna.fbcdn.net/v/t51.2885-19/s150x150/101421360_882321855593921_7652296940125683712_n.jpg?_nc_ht=instagram.fdel3-2.fna.fbcdn.net&_nc_ohc=bd435QOq8qMAX9JGERA&oh=822306c68f822fbb16d11aaa0803bf24&oe=5F039264', 'profile_pic_id': '2323699942571867130_1477212907', 'is_verified': False}, {'pk': 6188375629, 'username': 'awsis.ali.5', 'full_name': 'Awais Ali', 'is_private': False, 'profile_pic_url': 'https://instagram.fdel3-2.fna.fbcdn.net/v/t51.2885-19/s150x150/22280032_1353950361393513_3865067354870251520_n.jpg?_nc_ht=instagram.fdel3-2.fna.fbcdn.net&_nc_ohc=RKkGPGcpeb0AX_goqEJ&oh=239c0caff59918c95cb1a674fd801144&oe=5F03881E', 'profile_pic_id': '1621279284863938786_6188375629', 'is_verified': False}, {'pk': 5336638860, 'username': 'neerajalawa', 'full_name': 'Neeraj Alawa', 'is_private': False, 'profile_pic_url': 'https://instagram.fdel3-2.fna.fbcdn.net/v/t51.2885-19/s150x150/33956937_230038264439563_243197390650081280_n.jpg?_nc_ht=instagram.fdel3-2.fna.fbcdn.net&_nc_ohc=0feVDswJJKMAX-RvpKn&oh=2fa0ca75b04786acf6dcb0124ae75585&oe=5F055494', 'profile_pic_id': '1795620909601328174_5336638860', 'is_verified': False}], 'photo_of_you': False, 'can_see_insights_as_brand': False, 'caption': {'pk': 18127639474073592, 'user_id': 6156935295, 'text': 'I hate myself for being me..', 'type': 1, 'created_at': 1589094655, 'created_at_utc': 1589094655, 'content_type': 'comment', 'status': 'Active', 'bit_flags': 0, 'did_report_as_spam': False, 'share_enabled': False, 'user': {'pk': 6156935295, 'username': 'ericawilliams969', 'full_name': 'erica williams', 'is_private': True, 'profile_pic_url': 'https://instagram.fdel3-2.fna.fbcdn.net/v/t51.2885-19/s150x150/22221104_531749390493992_9145330191868887040_n.jpg?_nc_ht=instagram.fdel3-2.fna.fbcdn.net&_nc_ohc=cdW6jRFtGW0AX-SGJKn&oh=98751664ee5a7c546343dc7b90917c6f&oe=5F06D1C6', 'profile_pic_id': '1618249894493837521_6156935295', 'is_verified': False, 'has_anonymous_profile_picture': False, 'can_boost_post': False, 'can_see_organic_insights': False, 'show_insights_terms': False, 'reel_auto_archive': 'unset', 'is_unpublished': False, 'allowed_commenter_type': 'any', 'latest_reel_media': 0}, 'media_id': 1618283536335089343}, 'fb_user_tags': {'in': []}, 'can_viewer_save': True, 'organic_tracking_token': 'eyJ2ZXJzaW9uIjo1LCJwYXlsb2FkIjp7ImlzX2FuYWx5dGljc190cmFja2VkIjpmYWxzZSwidXVpZCI6IjU5OWU1NjI1MmNkMTQ0NzI4ZjNhNmRlMmI0NDg0YjA4MTYxODI4MzUzNjMzNTA4OTM0MyIsInNlcnZlcl90b2tlbiI6IjE1OTE0MzcyMDA5OTF8MTYxODI4MzUzNjMzNTA4OTM0M3w2MTU2OTM1Mjk1fDYxYWU4OGIyMWZmYzQxM2YwN2U1YzUwM2FmMjkwZDY2ZDk3ZTliZTU2MGYwNjk4N2E2NWVlZGJlOTI3MmNiZjYifSwic2lnbmF0dXJlIjoiIn0='}, {'taken_at': 1507134365, 'pk': 1618282806719091566, 'id': '1618282806719091566_6156935295', 'device_timestamp': 1507134310996, 'media_type': 1, 'code': 'BZ1S6OAnRNu1I_Yd1ZQBIll5ywbL9LChjF_FoY0', 'client_cache_key': 'MTYxODI4MjgwNjcxOTA5MTU2Ng==.2', 'filter_type': 0, 'image_versions2': {'candidates': [{'width': 640, 'height': 640, 'url': 'https://instagram.fdel3-2.fna.fbcdn.net/v/t51.2885-15/sh0.08/e35/s640x640/22158031_492050884489793_3481118311062700032_n.jpg?_nc_ht=instagram.fdel3-2.fna.fbcdn.net&_nc_cat=105&_nc_ohc=TdOJB-O9BDAAX8VKEiB&oh=928109a7ac6578e0169af697481f1e9c&oe=5F06C540&ig_cache_key=MTYxODI4MjgwNjcxOTA5MTU2Ng%3D%3D.2', 'scans_profile': 'e35', 'estimated_scans_sizes': [4621, 9242, 13863, 18484, 23106, 25855, 32902, 37395, 41591]}, {'width': 240, 'height': 240, 'url': 'https://instagram.fdel3-2.fna.fbcdn.net/v/t51.2885-15/e35/s240x240/22158031_492050884489793_3481118311062700032_n.jpg?_nc_ht=instagram.fdel3-2.fna.fbcdn.net&_nc_cat=105&_nc_ohc=TdOJB-O9BDAAX8VKEiB&oh=d2a7509d2e551d4f2dc59c0cc6668fb9&oe=5F0538D3&ig_cache_key=MTYxODI4MjgwNjcxOTA5MTU2Ng%3D%3D.2', 'scans_profile': 'e35', 'estimated_scans_sizes': [1203, 2406, 3610, 4813, 6016, 7244, 209050, 10830, 10830]}]}, 'original_width': 1080, 'original_height': 1080, 'user': {'pk': 6156935295, 'username': 'ericawilliams969', 'full_name': 'erica williams', 'is_private': True, 'profile_pic_url': 'https://instagram.fdel3-2.fna.fbcdn.net/v/t51.2885-19/s150x150/22221104_531749390493992_9145330191868887040_n.jpg?_nc_ht=instagram.fdel3-2.fna.fbcdn.net&_nc_ohc=cdW6jRFtGW0AX-SGJKn&oh=98751664ee5a7c546343dc7b90917c6f&oe=5F06D1C6', 'profile_pic_id': '1618249894493837521_6156935295', 'is_verified': False, 'has_anonymous_profile_picture': False, 'can_boost_post': False, 'can_see_organic_insights': False, 'show_insights_terms': False, 'reel_auto_archive': 'unset', 'is_unpublished': False, 'allowed_commenter_type': 'any', 'latest_reel_media': 0}, 'can_viewer_reshare': True, 'caption_is_edited': True, 'comment_likes_enabled': True, 'comment_threading_enabled': False, 'has_more_comments': False, 'max_num_visible_preview_comments': 2, 'preview_comments': [], 'can_view_more_preview_comments': False, 'comment_count': 0, 'inline_composer_display_condition': 'impression_trigger', 'like_count': 5, 'has_liked': False, 'top_likers': ['shariqkhan2050'], 'facepile_top_likers': [{'pk': 4254586503, 'username': 'shariqkhan2050', 'full_name': 'Shariq Khan', 'is_private': True, 'profile_pic_url': 'https://instagram.fdel3-2.fna.fbcdn.net/v/t51.2885-19/s150x150/95632714_947678582313182_4466953948493774848_n.jpg?_nc_ht=instagram.fdel3-2.fna.fbcdn.net&_nc_ohc=jq_4QEIf4eAAX8xjHa-&oh=9b4afb26a91fa5d945e0b26c2e266b1f&oe=5F06D3A9', 'profile_pic_id': '2298110992183571326_4254586503', 'is_verified': False}], 'likers': [{'pk': 4254586503, 'username': 'shariqkhan2050', 'full_name': 'Shariq Khan', 'is_private': True, 'profile_pic_url': 'https://instagram.fdel3-2.fna.fbcdn.net/v/t51.2885-19/s150x150/95632714_947678582313182_4466953948493774848_n.jpg?_nc_ht=instagram.fdel3-2.fna.fbcdn.net&_nc_ohc=jq_4QEIf4eAAX8xjHa-&oh=9b4afb26a91fa5d945e0b26c2e266b1f&oe=5F06D3A9', 'profile_pic_id': '2298110992183571326_4254586503', 'is_verified': False}, {'pk': 6191333882, 'username': 'sundarkatara5605', 'full_name': 'Sundarlove', 'is_private': False, 'profile_pic_url': 'https://instagram.fisb6-1.fna.fbcdn.net/v/t51.2885-19/44884218_345707102882519_2446069589734326272_n.jpg?_nc_ht=instagram.fisb6-1.fna.fbcdn.net&_nc_ohc=8_uE6AH0S60AX8igVh8&oh=8e643214664db5765e4a0d31961fd964&oe=5F03DA8F&ig_cache_key=YW5vbnltb3VzX3Byb2ZpbGVfcGlj.2', 'is_verified': False}, {'pk': 5336638860, 'username': 'neerajalawa', 'full_name': 'Neeraj Alawa', 'is_private': False, 'profile_pic_url': 'https://instagram.fdel3-2.fna.fbcdn.net/v/t51.2885-19/s150x150/33956937_230038264439563_243197390650081280_n.jpg?_nc_ht=instagram.fdel3-2.fna.fbcdn.net&_nc_ohc=0feVDswJJKMAX-RvpKn&oh=2fa0ca75b04786acf6dcb0124ae75585&oe=5F055494', 'profile_pic_id': '1795620909601328174_5336638860', 'is_verified': False}, {'pk': 4252109311, 'username': 'wahyu_sidarth_kaffi_assegaf', 'full_name': 'Wahyu Sidarth Kaffi Assegaf', 'is_private': False, 'profile_pic_url': 'https://instagram.fdel3-2.fna.fbcdn.net/v/t51.2885-19/s150x150/41908689_936280353224434_1163424941618495488_n.jpg?_nc_ht=instagram.fdel3-2.fna.fbcdn.net&_nc_ohc=VKilKRZiVpQAX_xgJjh&oh=56e77655a832a857f50f5dfc11eaf91c&oe=5F05C37E', 'profile_pic_id': '1871837514365841480_4252109311', 'is_verified': False}, {'pk': 1614764584, 'username': 'woahits.eric', 'full_name': 'Eric Jones', 'is_private': False, 'profile_pic_url': 'https://instagram.fdel3-2.fna.fbcdn.net/v/t51.2885-19/s150x150/91157785_2902995356443180_3142765554897518592_n.jpg?_nc_ht=instagram.fdel3-2.fna.fbcdn.net&_nc_ohc=l1ZFRk97sHQAX-O97ri&oh=49f79d5df1baeb2e09b6adc6ae2fd1e9&oe=5F0555E0', 'profile_pic_id': '2270892691025074807_1614764584', 'is_verified': False}], 'photo_of_you': False, 'can_see_insights_as_brand': False, 'caption': {'pk': 18060710500217188, 'user_id': 6156935295, 'text': 'I am feeling good today.. maybe because of the fact that I have stopped over thinking.', 'type': 1, 'created_at': 1589079141, 'created_at_utc': 1589079141, 'content_type': 'comment', 'status': 'Active', 'bit_flags': 0, 'did_report_as_spam': False, 'share_enabled': False, 'user': {'pk': 6156935295, 'username': 'ericawilliams969', 'full_name': 'erica williams', 'is_private': True, 'profile_pic_url': 'https://instagram.fdel3-2.fna.fbcdn.net/v/t51.2885-19/s150x150/22221104_531749390493992_9145330191868887040_n.jpg?_nc_ht=instagram.fdel3-2.fna.fbcdn.net&_nc_ohc=cdW6jRFtGW0AX-SGJKn&oh=98751664ee5a7c546343dc7b90917c6f&oe=5F06D1C6', 'profile_pic_id': '1618249894493837521_6156935295', 'is_verified': False, 'has_anonymous_profile_picture': False, 'can_boost_post': False, 'can_see_organic_insights': False, 'show_insights_terms': False, 'reel_auto_archive': 'unset', 'is_unpublished': False, 'allowed_commenter_type': 'any', 'latest_reel_media': 0}, 'media_id': 1618282806719091566}, 'fb_user_tags': {'in': []}, 'can_viewer_save': True, 'organic_tracking_token': 'eyJ2ZXJzaW9uIjo1LCJwYXlsb2FkIjp7ImlzX2FuYWx5dGljc190cmFja2VkIjpmYWxzZSwidXVpZCI6IjU5OWU1NjI1MmNkMTQ0NzI4ZjNhNmRlMmI0NDg0YjA4MTYxODI4MjgwNjcxOTA5MTU2NiIsInNlcnZlcl90b2tlbiI6IjE1OTE0MzcyMDA5OTF8MTYxODI4MjgwNjcxOTA5MTU2Nnw2MTU2OTM1Mjk1fDhhZDFkNmU4NjgxYWJkYTYwZGI2MTAzZGEzMGVlMDIyMDg3ZTA3OGViODQ5NmI0YzNjMWJmNzliOTU2YjI0MzgifSwic2lnbmF0dXJlIjoiIn0='}]]\n"
     ]
    }
   ],
   "source": [
    "import time\n",
    "myposts=[]\n",
    "has_more_posts=True\n",
    "max_id=\"\"\n",
    "while has_more_posts:\n",
    "    InstagramAPI.getSelfUserFeed(maxid=max_id)\n",
    "    if InstagramAPI.LastJson['more_available'] is not True:\n",
    "        has_more_posts=False\n",
    "    max_id=InstagramAPI.LastJson.get('next_max_id','')\n",
    "    myposts.append(InstagramAPI.LastJson['items'])\n",
    "    time.sleep(2)\n",
    "print(myposts)\n"
   ]
  },
  {
   "cell_type": "code",
   "execution_count": 6,
   "metadata": {},
   "outputs": [],
   "source": [
    "l=[]\n",
    "for i in myposts:\n",
    "    for k in i:\n",
    "        #print(k)\n",
    "        for key in k:\n",
    "            #print(key)\n",
    "            if(key=='caption'):\n",
    "                for x in k[key]:\n",
    "                    #print(k[key])\n",
    "                    #print(x)\n",
    "                    if(x=='text'):\n",
    "                        #print(k[key][x])\n",
    "                        l.append(k[key][x])\n",
    "#print(l)\n",
    "\n",
    "                        \n",
    "        "
   ]
  },
  {
   "cell_type": "code",
   "execution_count": 7,
   "metadata": {},
   "outputs": [
    {
     "name": "stdout",
     "output_type": "stream",
     "text": [
      "['Flowers are blooming', 'Finding my happiness in my own way', 'Still ill silence and end this bitch 🙂', 'Post appocalyse', 'Yes i am happy 🙂🙂', 'My heart is filled with griefs and ill mindset', 'Trying to escape from my sad life.. i want to end this', 'Alone in this world and that is awful nd i want to end this life', 'It is blurr as my choice to live my life i am depressed in this state which is pathetic', \"I wish like this coffee i can also be still i don't want to livee forever\", 'I want to hang due to my own ill pain and griefs. And cut myself out from this exhausting world', 'I hate myself for being me..', 'I am feeling good today.. maybe because of the fact that I have stopped over thinking.']\n"
     ]
    }
   ],
   "source": [
    "print(l)"
   ]
  },
  {
   "cell_type": "code",
   "execution_count": 8,
   "metadata": {},
   "outputs": [],
   "source": [
    "import pandas as pd\n",
    "caption=pd.DataFrame(l,columns=[\"text\"])"
   ]
  },
  {
   "cell_type": "code",
   "execution_count": 9,
   "metadata": {},
   "outputs": [
    {
     "name": "stdout",
     "output_type": "stream",
     "text": [
      "                                                 text\n",
      "0                                Flowers are blooming\n",
      "1                  Finding my happiness in my own way\n",
      "2              Still ill silence and end this bitch 🙂\n",
      "3                                     Post appocalyse\n",
      "4                                   Yes i am happy 🙂🙂\n",
      "5      My heart is filled with griefs and ill mindset\n",
      "6   Trying to escape from my sad life.. i want to ...\n",
      "7   Alone in this world and that is awful nd i wan...\n",
      "8   It is blurr as my choice to live my life i am ...\n",
      "9   I wish like this coffee i can also be still i ...\n",
      "10  I want to hang due to my own ill pain and grie...\n",
      "11                       I hate myself for being me..\n",
      "12  I am feeling good today.. maybe because of the...\n"
     ]
    }
   ],
   "source": [
    "print(caption)\n"
   ]
  },
  {
   "cell_type": "code",
   "execution_count": 10,
   "metadata": {},
   "outputs": [],
   "source": [
    "import re\n",
    "def clean(sentence):\n",
    "    sentence=re.sub('[^a-zA-Z]',' ',sentence)\n",
    "    sentence=sentence.lower()\n",
    "    sentence=re.sub(r'#','',sentence)\n",
    "    return(sentence)\n",
    "    \n",
    "caption[\"text\"]=caption[\"text\"].apply(clean)"
   ]
  },
  {
   "cell_type": "code",
   "execution_count": 11,
   "metadata": {},
   "outputs": [
    {
     "name": "stdout",
     "output_type": "stream",
     "text": [
      "                                                 text\n",
      "0                                flowers are blooming\n",
      "1                  finding my happiness in my own way\n",
      "2              still ill silence and end this bitch  \n",
      "3                                     post appocalyse\n",
      "4                                   yes i am happy   \n",
      "5      my heart is filled with griefs and ill mindset\n",
      "6   trying to escape from my sad life   i want to ...\n",
      "7   alone in this world and that is awful nd i wan...\n",
      "8   it is blurr as my choice to live my life i am ...\n",
      "9   i wish like this coffee i can also be still i ...\n",
      "10  i want to hang due to my own ill pain and grie...\n",
      "11                       i hate myself for being me  \n",
      "12  i am feeling good today   maybe because of the...\n"
     ]
    }
   ],
   "source": [
    "print(caption)"
   ]
  },
  {
   "cell_type": "code",
   "execution_count": 12,
   "metadata": {},
   "outputs": [],
   "source": [
    "import matplotlib.pyplot as plt\n",
    "import pandas as pd\n",
    "import numpy as np\n",
    "from nltk.corpus import stopwords\n",
    "from nltk.stem.porter import PorterStemmer\n",
    "import sklearn\n",
    "import warnings"
   ]
  },
  {
   "cell_type": "code",
   "execution_count": 13,
   "metadata": {},
   "outputs": [],
   "source": [
    "from nltk.stem import WordNetLemmatizer\n",
    "from nltk.corpus import stopwords\n",
    "wordnet=WordNetLemmatizer()\n",
    "import re"
   ]
  },
  {
   "cell_type": "code",
   "execution_count": 14,
   "metadata": {},
   "outputs": [],
   "source": [
    "import os\n",
    "import re \n",
    "DeprecationWarning('ignore')\n",
    "warnings.filterwarnings('ignore')\n",
    "os.chdir('D:/machine_learning')\n",
    "df=pd.read_csv('suicide.csv')"
   ]
  },
  {
   "cell_type": "code",
   "execution_count": 15,
   "metadata": {},
   "outputs": [
    {
     "data": {
      "text/html": [
       "<div>\n",
       "<style scoped>\n",
       "    .dataframe tbody tr th:only-of-type {\n",
       "        vertical-align: middle;\n",
       "    }\n",
       "\n",
       "    .dataframe tbody tr th {\n",
       "        vertical-align: top;\n",
       "    }\n",
       "\n",
       "    .dataframe thead th {\n",
       "        text-align: right;\n",
       "    }\n",
       "</style>\n",
       "<table border=\"1\" class=\"dataframe\">\n",
       "  <thead>\n",
       "    <tr style=\"text-align: right;\">\n",
       "      <th></th>\n",
       "      <th>id</th>\n",
       "      <th>text</th>\n",
       "    </tr>\n",
       "  </thead>\n",
       "  <tbody>\n",
       "    <tr>\n",
       "      <td>0</td>\n",
       "      <td>1</td>\n",
       "      <td>I have nothing to say but goodbye</td>\n",
       "    </tr>\n",
       "    <tr>\n",
       "      <td>1</td>\n",
       "      <td>2</td>\n",
       "      <td>Let me go!!</td>\n",
       "    </tr>\n",
       "    <tr>\n",
       "      <td>2</td>\n",
       "      <td>3</td>\n",
       "      <td>I want to kill myself</td>\n",
       "    </tr>\n",
       "    <tr>\n",
       "      <td>3</td>\n",
       "      <td>4</td>\n",
       "      <td>I am in darkness forever</td>\n",
       "    </tr>\n",
       "    <tr>\n",
       "      <td>4</td>\n",
       "      <td>5</td>\n",
       "      <td>tried to cut my wrist yesterday but failed</td>\n",
       "    </tr>\n",
       "    <tr>\n",
       "      <td>5</td>\n",
       "      <td>6</td>\n",
       "      <td>can't Find that dress</td>\n",
       "    </tr>\n",
       "    <tr>\n",
       "      <td>6</td>\n",
       "      <td>7</td>\n",
       "      <td>Lonely</td>\n",
       "    </tr>\n",
       "    <tr>\n",
       "      <td>7</td>\n",
       "      <td>8</td>\n",
       "      <td>sorry!! For being a BITCH</td>\n",
       "    </tr>\n",
       "    <tr>\n",
       "      <td>8</td>\n",
       "      <td>9</td>\n",
       "      <td>I am leaving</td>\n",
       "    </tr>\n",
       "    <tr>\n",
       "      <td>9</td>\n",
       "      <td>10</td>\n",
       "      <td>Can't take this anymore,,end it</td>\n",
       "    </tr>\n",
       "  </tbody>\n",
       "</table>\n",
       "</div>"
      ],
      "text/plain": [
       "   id                                        text\n",
       "0   1           I have nothing to say but goodbye\n",
       "1   2                                 Let me go!!\n",
       "2   3                       I want to kill myself\n",
       "3   4                    I am in darkness forever\n",
       "4   5  tried to cut my wrist yesterday but failed\n",
       "5   6                       can't Find that dress\n",
       "6   7                                      Lonely\n",
       "7   8                   sorry!! For being a BITCH\n",
       "8   9                                I am leaving\n",
       "9  10             Can't take this anymore,,end it"
      ]
     },
     "execution_count": 15,
     "metadata": {},
     "output_type": "execute_result"
    }
   ],
   "source": [
    "df.head(10)"
   ]
  },
  {
   "cell_type": "code",
   "execution_count": 16,
   "metadata": {},
   "outputs": [
    {
     "ename": "KeyError",
     "evalue": "98",
     "output_type": "error",
     "traceback": [
      "\u001b[1;31m---------------------------------------------------------------------------\u001b[0m",
      "\u001b[1;31mKeyError\u001b[0m                                  Traceback (most recent call last)",
      "\u001b[1;32m<ipython-input-16-dfb39d6510d6>\u001b[0m in \u001b[0;36m<module>\u001b[1;34m\u001b[0m\n\u001b[0;32m      2\u001b[0m \u001b[1;32mfor\u001b[0m \u001b[0mi\u001b[0m \u001b[1;32min\u001b[0m \u001b[0mrange\u001b[0m\u001b[1;33m(\u001b[0m\u001b[1;36m100\u001b[0m\u001b[1;33m)\u001b[0m\u001b[1;33m:\u001b[0m\u001b[1;33m\u001b[0m\u001b[1;33m\u001b[0m\u001b[0m\n\u001b[0;32m      3\u001b[0m     \u001b[1;31m#print(df['text'][i])\u001b[0m\u001b[1;33m\u001b[0m\u001b[1;33m\u001b[0m\u001b[1;33m\u001b[0m\u001b[0m\n\u001b[1;32m----> 4\u001b[1;33m     \u001b[0mtext\u001b[0m\u001b[1;33m=\u001b[0m\u001b[0mre\u001b[0m\u001b[1;33m.\u001b[0m\u001b[0msub\u001b[0m\u001b[1;33m(\u001b[0m\u001b[1;34m'[^a-zA-Z]'\u001b[0m\u001b[1;33m,\u001b[0m\u001b[1;34m' '\u001b[0m\u001b[1;33m,\u001b[0m\u001b[0mdf\u001b[0m\u001b[1;33m[\u001b[0m\u001b[1;34m'text'\u001b[0m\u001b[1;33m]\u001b[0m\u001b[1;33m[\u001b[0m\u001b[0mi\u001b[0m\u001b[1;33m]\u001b[0m\u001b[1;33m)\u001b[0m\u001b[1;33m\u001b[0m\u001b[1;33m\u001b[0m\u001b[0m\n\u001b[0m\u001b[0;32m      5\u001b[0m     \u001b[0mtext\u001b[0m\u001b[1;33m=\u001b[0m\u001b[0mtext\u001b[0m\u001b[1;33m.\u001b[0m\u001b[0mlower\u001b[0m\u001b[1;33m(\u001b[0m\u001b[1;33m)\u001b[0m\u001b[1;33m\u001b[0m\u001b[1;33m\u001b[0m\u001b[0m\n\u001b[0;32m      6\u001b[0m     \u001b[0mtext\u001b[0m\u001b[1;33m=\u001b[0m\u001b[0mtext\u001b[0m\u001b[1;33m.\u001b[0m\u001b[0msplit\u001b[0m\u001b[1;33m(\u001b[0m\u001b[1;33m)\u001b[0m\u001b[1;33m\u001b[0m\u001b[1;33m\u001b[0m\u001b[0m\n",
      "\u001b[1;32m~\\Anaconda3\\lib\\site-packages\\pandas\\core\\series.py\u001b[0m in \u001b[0;36m__getitem__\u001b[1;34m(self, key)\u001b[0m\n\u001b[0;32m   1066\u001b[0m         \u001b[0mkey\u001b[0m \u001b[1;33m=\u001b[0m \u001b[0mcom\u001b[0m\u001b[1;33m.\u001b[0m\u001b[0mapply_if_callable\u001b[0m\u001b[1;33m(\u001b[0m\u001b[0mkey\u001b[0m\u001b[1;33m,\u001b[0m \u001b[0mself\u001b[0m\u001b[1;33m)\u001b[0m\u001b[1;33m\u001b[0m\u001b[1;33m\u001b[0m\u001b[0m\n\u001b[0;32m   1067\u001b[0m         \u001b[1;32mtry\u001b[0m\u001b[1;33m:\u001b[0m\u001b[1;33m\u001b[0m\u001b[1;33m\u001b[0m\u001b[0m\n\u001b[1;32m-> 1068\u001b[1;33m             \u001b[0mresult\u001b[0m \u001b[1;33m=\u001b[0m \u001b[0mself\u001b[0m\u001b[1;33m.\u001b[0m\u001b[0mindex\u001b[0m\u001b[1;33m.\u001b[0m\u001b[0mget_value\u001b[0m\u001b[1;33m(\u001b[0m\u001b[0mself\u001b[0m\u001b[1;33m,\u001b[0m \u001b[0mkey\u001b[0m\u001b[1;33m)\u001b[0m\u001b[1;33m\u001b[0m\u001b[1;33m\u001b[0m\u001b[0m\n\u001b[0m\u001b[0;32m   1069\u001b[0m \u001b[1;33m\u001b[0m\u001b[0m\n\u001b[0;32m   1070\u001b[0m             \u001b[1;32mif\u001b[0m \u001b[1;32mnot\u001b[0m \u001b[0mis_scalar\u001b[0m\u001b[1;33m(\u001b[0m\u001b[0mresult\u001b[0m\u001b[1;33m)\u001b[0m\u001b[1;33m:\u001b[0m\u001b[1;33m\u001b[0m\u001b[1;33m\u001b[0m\u001b[0m\n",
      "\u001b[1;32m~\\Anaconda3\\lib\\site-packages\\pandas\\core\\indexes\\base.py\u001b[0m in \u001b[0;36mget_value\u001b[1;34m(self, series, key)\u001b[0m\n\u001b[0;32m   4728\u001b[0m         \u001b[0mk\u001b[0m \u001b[1;33m=\u001b[0m \u001b[0mself\u001b[0m\u001b[1;33m.\u001b[0m\u001b[0m_convert_scalar_indexer\u001b[0m\u001b[1;33m(\u001b[0m\u001b[0mk\u001b[0m\u001b[1;33m,\u001b[0m \u001b[0mkind\u001b[0m\u001b[1;33m=\u001b[0m\u001b[1;34m\"getitem\"\u001b[0m\u001b[1;33m)\u001b[0m\u001b[1;33m\u001b[0m\u001b[1;33m\u001b[0m\u001b[0m\n\u001b[0;32m   4729\u001b[0m         \u001b[1;32mtry\u001b[0m\u001b[1;33m:\u001b[0m\u001b[1;33m\u001b[0m\u001b[1;33m\u001b[0m\u001b[0m\n\u001b[1;32m-> 4730\u001b[1;33m             \u001b[1;32mreturn\u001b[0m \u001b[0mself\u001b[0m\u001b[1;33m.\u001b[0m\u001b[0m_engine\u001b[0m\u001b[1;33m.\u001b[0m\u001b[0mget_value\u001b[0m\u001b[1;33m(\u001b[0m\u001b[0ms\u001b[0m\u001b[1;33m,\u001b[0m \u001b[0mk\u001b[0m\u001b[1;33m,\u001b[0m \u001b[0mtz\u001b[0m\u001b[1;33m=\u001b[0m\u001b[0mgetattr\u001b[0m\u001b[1;33m(\u001b[0m\u001b[0mseries\u001b[0m\u001b[1;33m.\u001b[0m\u001b[0mdtype\u001b[0m\u001b[1;33m,\u001b[0m \u001b[1;34m\"tz\"\u001b[0m\u001b[1;33m,\u001b[0m \u001b[1;32mNone\u001b[0m\u001b[1;33m)\u001b[0m\u001b[1;33m)\u001b[0m\u001b[1;33m\u001b[0m\u001b[1;33m\u001b[0m\u001b[0m\n\u001b[0m\u001b[0;32m   4731\u001b[0m         \u001b[1;32mexcept\u001b[0m \u001b[0mKeyError\u001b[0m \u001b[1;32mas\u001b[0m \u001b[0me1\u001b[0m\u001b[1;33m:\u001b[0m\u001b[1;33m\u001b[0m\u001b[1;33m\u001b[0m\u001b[0m\n\u001b[0;32m   4732\u001b[0m             \u001b[1;32mif\u001b[0m \u001b[0mlen\u001b[0m\u001b[1;33m(\u001b[0m\u001b[0mself\u001b[0m\u001b[1;33m)\u001b[0m \u001b[1;33m>\u001b[0m \u001b[1;36m0\u001b[0m \u001b[1;32mand\u001b[0m \u001b[1;33m(\u001b[0m\u001b[0mself\u001b[0m\u001b[1;33m.\u001b[0m\u001b[0mholds_integer\u001b[0m\u001b[1;33m(\u001b[0m\u001b[1;33m)\u001b[0m \u001b[1;32mor\u001b[0m \u001b[0mself\u001b[0m\u001b[1;33m.\u001b[0m\u001b[0mis_boolean\u001b[0m\u001b[1;33m(\u001b[0m\u001b[1;33m)\u001b[0m\u001b[1;33m)\u001b[0m\u001b[1;33m:\u001b[0m\u001b[1;33m\u001b[0m\u001b[1;33m\u001b[0m\u001b[0m\n",
      "\u001b[1;32mpandas\\_libs\\index.pyx\u001b[0m in \u001b[0;36mpandas._libs.index.IndexEngine.get_value\u001b[1;34m()\u001b[0m\n",
      "\u001b[1;32mpandas\\_libs\\index.pyx\u001b[0m in \u001b[0;36mpandas._libs.index.IndexEngine.get_value\u001b[1;34m()\u001b[0m\n",
      "\u001b[1;32mpandas\\_libs\\index.pyx\u001b[0m in \u001b[0;36mpandas._libs.index.IndexEngine.get_loc\u001b[1;34m()\u001b[0m\n",
      "\u001b[1;32mpandas\\_libs\\hashtable_class_helper.pxi\u001b[0m in \u001b[0;36mpandas._libs.hashtable.Int64HashTable.get_item\u001b[1;34m()\u001b[0m\n",
      "\u001b[1;32mpandas\\_libs\\hashtable_class_helper.pxi\u001b[0m in \u001b[0;36mpandas._libs.hashtable.Int64HashTable.get_item\u001b[1;34m()\u001b[0m\n",
      "\u001b[1;31mKeyError\u001b[0m: 98"
     ]
    }
   ],
   "source": [
    "processed_list=[]\n",
    "for i in range(100):\n",
    "    #print(df['text'][i])\n",
    "    text=re.sub('[^a-zA-Z]',' ',df['text'][i])\n",
    "    text=text.lower()\n",
    "    text=text.split()\n",
    "    for token in text:\n",
    "        if not token in set(stopwords.words('english')):\n",
    "            text=[]\n",
    "            text.append(token)\n",
    "    #print(i)\n",
    "    text=' '.join(text)\n",
    "    processed_list.append(text)\n",
    "        "
   ]
  },
  {
   "cell_type": "code",
   "execution_count": 17,
   "metadata": {},
   "outputs": [
    {
     "name": "stdout",
     "output_type": "stream",
     "text": [
      "['goodbye', 'go', 'kill', 'forever', 'failed', 'dress', 'lonely', 'bitch', 'leaving', 'end', 'shut', 'depressed', 'puppy', 'soon', 'sorry', 'talking', 'suicide', 'live', 'loves', 'messed', 'darkness', 'survive', 'noone', 'depressed', 'life', 'fat', 'hideous', 'help', 'someone', 'fascinating', 'paris', 'solotrip', 'work', 'used', 'change', 'good', 'cares', 'end', 'disappear', 'grow', 'escape', 'disappear', 'hurts', 'exhausted', 'deserve', 'awful', 'hideous', 'broken', 'hard', 'hurting', 'right', 'fake', 'life', 'everyone', 'harming', 'life', 'end', 'ill', 'suicide', 'life', 'life', 'depressed', 'lives', 'happy', 'living', 'knife', 'hatred', 'motivational', 'wrist', 'dead', 'born', 'inside', 'died', 'life', 'suicide', 'life', 'quit', 'harm', 'ill', 'escape', 'fan', 'poison', 'hate', 'lethal', 'fatal', 'destructive', 'live', 'suicidal', 'bleeding', 'everyone', 'harm', 'quit', 'enough', 'darkness', 'life', 'fair', 'die', 'end']\n"
     ]
    }
   ],
   "source": [
    "print(processed_list)"
   ]
  },
  {
   "cell_type": "code",
   "execution_count": 18,
   "metadata": {},
   "outputs": [
    {
     "name": "stdout",
     "output_type": "stream",
     "text": [
      "['awful', 'bitch', 'bleeding', 'born', 'broken', 'cares', 'change', 'darkness', 'dead', 'depressed', 'deserve', 'destructive', 'die', 'died', 'disappear', 'dress', 'end', 'enough', 'escape', 'everyone', 'exhausted', 'failed', 'fair', 'fake', 'fan', 'fascinating', 'fat', 'fatal', 'forever', 'go', 'good', 'goodbye', 'grow', 'happy', 'hard', 'harm', 'harming', 'hate', 'hatred', 'help', 'hideous', 'hurting', 'hurts', 'ill', 'inside', 'kill', 'knife', 'leaving', 'lethal', 'life', 'live', 'lives', 'living', 'lonely', 'loves', 'messed', 'motivational', 'noone', 'paris', 'poison', 'puppy', 'quit', 'right', 'shut', 'solotrip', 'someone', 'soon', 'sorry', 'suicidal', 'suicide', 'survive', 'talking', 'used', 'work', 'wrist']\n"
     ]
    }
   ],
   "source": [
    "from sklearn.feature_extraction.text import CountVectorizer\n",
    "cv=CountVectorizer(max_features=80)\n",
    "x=cv.fit_transform(processed_list)\n",
    "y=df.iloc[:,1].values\n",
    "print(cv.get_feature_names())"
   ]
  },
  {
   "cell_type": "code",
   "execution_count": 19,
   "metadata": {},
   "outputs": [],
   "source": [
    "from sklearn.model_selection import train_test_split\n",
    "x_train,x_test,y_train,y_test=train_test_split(x,y,test_size=10,random_state=2)"
   ]
  },
  {
   "cell_type": "code",
   "execution_count": 321,
   "metadata": {
    "scrolled": true
   },
   "outputs": [
    {
     "name": "stdout",
     "output_type": "stream",
     "text": [
      "  (0, 31)\t1\n",
      "  (1, 29)\t1\n",
      "  (2, 45)\t1\n",
      "  (3, 28)\t1\n",
      "  (4, 21)\t1\n",
      "  (5, 15)\t1\n",
      "  (6, 53)\t1\n",
      "  (7, 1)\t1\n",
      "  (8, 47)\t1\n",
      "  (9, 16)\t1\n",
      "  (10, 63)\t1\n",
      "  (11, 9)\t1\n",
      "  (12, 60)\t1\n",
      "  (13, 66)\t1\n",
      "  (14, 67)\t1\n",
      "  (15, 71)\t1\n",
      "  (16, 69)\t1\n",
      "  (17, 50)\t1\n",
      "  (18, 54)\t1\n",
      "  (19, 55)\t1\n",
      "  (20, 7)\t1\n",
      "  (21, 70)\t1\n",
      "  (22, 57)\t1\n",
      "  (23, 9)\t1\n",
      "  (24, 49)\t1\n",
      "  :\t:\n",
      "  (73, 49)\t1\n",
      "  (74, 69)\t1\n",
      "  (75, 49)\t1\n",
      "  (76, 61)\t1\n",
      "  (77, 35)\t1\n",
      "  (78, 43)\t1\n",
      "  (79, 18)\t1\n",
      "  (80, 24)\t1\n",
      "  (81, 59)\t1\n",
      "  (82, 37)\t1\n",
      "  (83, 48)\t1\n",
      "  (84, 27)\t1\n",
      "  (85, 11)\t1\n",
      "  (86, 50)\t1\n",
      "  (87, 68)\t1\n",
      "  (88, 2)\t1\n",
      "  (89, 19)\t1\n",
      "  (90, 35)\t1\n",
      "  (91, 61)\t1\n",
      "  (92, 17)\t1\n",
      "  (93, 7)\t1\n",
      "  (94, 49)\t1\n",
      "  (95, 22)\t1\n",
      "  (96, 12)\t1\n",
      "  (97, 16)\t1\n"
     ]
    }
   ],
   "source": [
    "print(x)"
   ]
  },
  {
   "cell_type": "code",
   "execution_count": 20,
   "metadata": {},
   "outputs": [
    {
     "data": {
      "text/plain": [
       "0.7840909090909091"
      ]
     },
     "execution_count": 20,
     "metadata": {},
     "output_type": "execute_result"
    }
   ],
   "source": [
    "from sklearn.linear_model import LogisticRegression\n",
    "log_model=LogisticRegression()\n",
    "log_model.fit(x_train,y_train)\n",
    "score=log_model.score(x_train,y_train)\n",
    "score"
   ]
  },
  {
   "cell_type": "code",
   "execution_count": null,
   "metadata": {},
   "outputs": [],
   "source": []
  },
  {
   "cell_type": "code",
   "execution_count": 21,
   "metadata": {},
   "outputs": [
    {
     "data": {
      "text/plain": [
       "<matplotlib.axes._subplots.AxesSubplot at 0x1f9095d6c88>"
      ]
     },
     "execution_count": 21,
     "metadata": {},
     "output_type": "execute_result"
    },
    {
     "data": {
      "image/png": "[encoded data removed]",
      "text/plain": [
       "<Figure size 432x288 with 1 Axes>"
      ]
     },
     "metadata": {
      "needs_background": "light"
     },
     "output_type": "display_data"
    }
   ],
   "source": [
    "import seaborn as sns\n",
    "k=log_model.predict(x_test)\n",
    "sns.countplot(k)"
   ]
  },
  {
   "cell_type": "code",
   "execution_count": null,
   "metadata": {},
   "outputs": [],
   "source": []
  },
  {
   "cell_type": "code",
   "execution_count": 22,
   "metadata": {},
   "outputs": [
    {
     "name": "stdout",
     "output_type": "stream",
     "text": [
      "[0 0 0 0 0 0 0 0 0 0 0 0 0 0 0 0 0 0 0 0 0 0 0 0 2 0 1 0 0 0 0 0 0 0 0 0 0\n",
      " 0 0 0 0 0 0 0 0 0 1 0 0 0 0 0 2 0 0 2 0 0 0 2 2 0 0 0 0 0 0 0 0 0 0 0 0 2\n",
      " 0 2 0 0 0 0 0 0 0 0 0 0 0 0 0 0 0 0 0 0 2 0 0 0]\n"
     ]
    }
   ],
   "source": [
    "from sklearn.cluster import KMeans\n",
    "clf = KMeans(n_clusters =3)\n",
    "labels = clf.fit_predict(x)\n",
    "print(labels) "
   ]
  },
  {
   "cell_type": "code",
   "execution_count": 23,
   "metadata": {},
   "outputs": [
    {
     "data": {
      "text/plain": [
       "<matplotlib.axes._subplots.AxesSubplot at 0x1f9098dcd48>"
      ]
     },
     "execution_count": 23,
     "metadata": {},
     "output_type": "execute_result"
    },
    {
     "data": {
      "image/png": "[encoded data removed]",
      "text/plain": [
       "<Figure size 432x288 with 1 Axes>"
      ]
     },
     "metadata": {
      "needs_background": "light"
     },
     "output_type": "display_data"
    }
   ],
   "source": [
    "sns.countplot(labels)"
   ]
  },
  {
   "cell_type": "code",
   "execution_count": 24,
   "metadata": {},
   "outputs": [],
   "source": [
    "from textblob import TextBlob"
   ]
  },
  {
   "cell_type": "code",
   "execution_count": 25,
   "metadata": {},
   "outputs": [],
   "source": [
    "processed_list1=[]\n",
    "for i in l:\n",
    "    #print(df['text'][i])\n",
    "    txt=re.sub('[^a-zA-Z]',' ',i)\n",
    "    txt=txt.lower()\n",
    "    txt=txt.split()\n",
    "    for token in txt:\n",
    "        if not token in set(stopwords.words('english')):\n",
    "            txt=[]\n",
    "            txt.append(token)\n",
    "    #print(i)\n",
    "    txt=' '.join(txt)\n",
    "    processed_list1.append(txt)"
   ]
  },
  {
   "cell_type": "code",
   "execution_count": 26,
   "metadata": {},
   "outputs": [
    {
     "name": "stdout",
     "output_type": "stream",
     "text": [
      "['blooming', 'way', 'bitch', 'appocalyse', 'happy', 'mindset', 'end', 'life', 'pathetic', 'forever', 'world', 'hate', 'thinking']\n"
     ]
    }
   ],
   "source": [
    "print(processed_list1)"
   ]
  },
  {
   "cell_type": "code",
   "execution_count": 27,
   "metadata": {},
   "outputs": [
    {
     "name": "stdout",
     "output_type": "stream",
     "text": [
      "['appocalyse', 'bitch', 'blooming', 'end', 'forever', 'happy', 'hate', 'life', 'mindset', 'pathetic', 'thinking', 'way', 'world']\n"
     ]
    }
   ],
   "source": [
    "from sklearn.feature_extraction.text import CountVectorizer\n",
    "cv=CountVectorizer(max_features=80)\n",
    "x1=cv.fit_transform(processed_list1)\n",
    "y1=df.iloc[:,1].values\n",
    "print(cv.get_feature_names())"
   ]
  },
  {
   "cell_type": "code",
   "execution_count": 28,
   "metadata": {},
   "outputs": [
    {
     "name": "stdout",
     "output_type": "stream",
     "text": [
      "  (0, 2)\t1\n",
      "  (1, 11)\t1\n",
      "  (2, 1)\t1\n",
      "  (3, 0)\t1\n",
      "  (4, 5)\t1\n",
      "  (5, 8)\t1\n",
      "  (6, 3)\t1\n",
      "  (7, 7)\t1\n",
      "  (8, 9)\t1\n",
      "  (9, 4)\t1\n",
      "  (10, 12)\t1\n",
      "  (11, 6)\t1\n",
      "  (12, 10)\t1\n"
     ]
    }
   ],
   "source": [
    "print(x1)"
   ]
  },
  {
   "cell_type": "code",
   "execution_count": 29,
   "metadata": {},
   "outputs": [
    {
     "name": "stdout",
     "output_type": "stream",
     "text": [
      "[0 0 0 0 0 0 0 0 0 1 0 0 0]\n"
     ]
    }
   ],
   "source": [
    "from sklearn.cluster import KMeans\n",
    "clf = KMeans(n_clusters =2)\n",
    "labels1 = clf.fit_predict(x1)\n",
    "print(labels1) "
   ]
  },
  {
   "cell_type": "code",
   "execution_count": 303,
   "metadata": {},
   "outputs": [
    {
     "data": {
      "text/plain": [
       "<matplotlib.axes._subplots.AxesSubplot at 0x205f3107ac8>"
      ]
     },
     "execution_count": 303,
     "metadata": {},
     "output_type": "execute_result"
    },
    {
     "data": {
      "image/png": "[encoded data removed]",
      "text/plain": [
       "<Figure size 432x288 with 1 Axes>"
      ]
     },
     "metadata": {
      "needs_background": "light"
     },
     "output_type": "display_data"
    }
   ],
   "source": [
    "sns.countplot(labels1)"
   ]
  },
  {
   "cell_type": "code",
   "execution_count": 30,
   "metadata": {},
   "outputs": [
    {
     "data": {
      "image/png": "[encoded data removed]",
      "text/plain": [
       "<Figure size 432x288 with 1 Axes>"
      ]
     },
     "metadata": {
      "needs_background": "light"
     },
     "output_type": "display_data"
    }
   ],
   "source": [
    "from wordcloud import WordCloud\n",
    "words=' '.join([txt for txt in caption['text']])\n",
    "wordCloud=WordCloud(width=500,height=300,random_state=5,max_font_size=150).generate(words)\n",
    "plt.imshow(wordCloud,interpolation=\"bilinear\")\n",
    "plt.axis('off')\n",
    "plt.show()\n",
    "            "
   ]
  },
  {
   "cell_type": "code",
   "execution_count": 31,
   "metadata": {},
   "outputs": [],
   "source": [
    "def polarity(text):\n",
    "    x=TextBlob(text).sentiment.polarity\n",
    "    if(x<0):\n",
    "        return(\"negitive\")\n",
    "    if(x>0):\n",
    "        return(\"positive\")\n",
    "    else:\n",
    "        return(\"neutral\")\n",
    "caption[\"sentiment\"]=caption[\"text\"].apply(polarity)"
   ]
  },
  {
   "cell_type": "code",
   "execution_count": 32,
   "metadata": {},
   "outputs": [
    {
     "name": "stdout",
     "output_type": "stream",
     "text": [
      "                                                 text sentiment\n",
      "0                                flowers are blooming   neutral\n",
      "1                  finding my happiness in my own way  positive\n",
      "2              still ill silence and end this bitch    negitive\n",
      "3                                     post appocalyse   neutral\n",
      "4                                   yes i am happy     positive\n",
      "5      my heart is filled with griefs and ill mindset  negitive\n",
      "6   trying to escape from my sad life   i want to ...  negitive\n",
      "7   alone in this world and that is awful nd i wan...  negitive\n",
      "8   it is blurr as my choice to live my life i am ...  negitive\n",
      "9   i wish like this coffee i can also be still i ...   neutral\n",
      "10  i want to hang due to my own ill pain and grie...  negitive\n",
      "11                       i hate myself for being me    negitive\n",
      "12  i am feeling good today   maybe because of the...  positive\n"
     ]
    }
   ],
   "source": [
    "print(caption)"
   ]
  },
  {
   "cell_type": "code",
   "execution_count": 33,
   "metadata": {},
   "outputs": [],
   "source": [
    "emotion=[]\n",
    "for i in caption[\"sentiment\"]:\n",
    "    if(i==\"negitive\"):\n",
    "        emotion.append(0)\n",
    "    elif(i==\"positive\"):\n",
    "        emotion.append(1)\n",
    "    else:\n",
    "        emotion.append(2)\n",
    "y=[]\n",
    "y.append(emotion.count(0))\n",
    "y.append(emotion.count(1))\n",
    "y.append(emotion.count(2))"
   ]
  },
  {
   "cell_type": "code",
   "execution_count": 345,
   "metadata": {},
   "outputs": [
    {
     "name": "stdout",
     "output_type": "stream",
     "text": [
      "[7, 3, 3]\n"
     ]
    }
   ],
   "source": [
    "print(y)"
   ]
  },
  {
   "cell_type": "code",
   "execution_count": 34,
   "metadata": {},
   "outputs": [
    {
     "data": {
      "image/png": "[encoded data removed]",
      "text/plain": [
       "<Figure size 432x288 with 1 Axes>"
      ]
     },
     "metadata": {
      "needs_background": "light"
     },
     "output_type": "display_data"
    }
   ],
   "source": [
    "import matplotlib.pyplot as plt\n",
    "fig=plt.figure()\n",
    "ax=fig.add_axes([0,0,1,1])\n",
    "x=[\"negitive\",\"positive\",\"neutral\"]\n",
    "ax.bar(x,y,color='g')\n",
    "plt.show()"
   ]
  },
  {
   "cell_type": "code",
   "execution_count": 35,
   "metadata": {},
   "outputs": [
    {
     "data": {
      "text/plain": [
       "(13, 2)"
      ]
     },
     "execution_count": 35,
     "metadata": {},
     "output_type": "execute_result"
    }
   ],
   "source": [
    "caption.shape"
   ]
  },
  {
   "cell_type": "code",
   "execution_count": 36,
   "metadata": {},
   "outputs": [],
   "source": [
    "def getpolarity(text):\n",
    "    return TextBlob(text).sentiment.polarity\n",
    "def getsubjectivity(text):\n",
    "    return TextBlob(text).sentiment.subjectivity\n",
    "\n",
    "caption[\"polarity\"]=caption[\"text\"].apply(getpolarity)\n",
    "caption[\"subjectivity\"]=caption[\"text\"].apply(getsubjectivity)"
   ]
  },
  {
   "cell_type": "code",
   "execution_count": 37,
   "metadata": {},
   "outputs": [
    {
     "data": {
      "image/png": "[encoded data removed]",
      "text/plain": [
       "<Figure size 576x432 with 1 Axes>"
      ]
     },
     "metadata": {
      "needs_background": "light"
     },
     "output_type": "display_data"
    }
   ],
   "source": [
    "plt.figure(figsize=(8,6))\n",
    "for i in range(0,caption.shape[0]):\n",
    "    plt.scatter(caption['polarity'][i],caption['subjectivity'][i],color='Blue')\n",
    "\n",
    "plt.title('sentiment analysis')\n",
    "plt.xlabel('polarity')\n",
    "plt.ylabel('subjectivity')\n",
    "plt.show()"
   ]
  },
  {
   "cell_type": "code",
   "execution_count": 38,
   "metadata": {},
   "outputs": [
    {
     "name": "stdout",
     "output_type": "stream",
     "text": [
      "['goodbye', 'go', 'kill', 'forever', 'failed', 'dress', 'lonely', 'bitch', 'leaving', 'end', 'shut', 'depressed', 'puppy', 'soon', 'sorry', 'talking', 'suicide', 'live', 'loves', 'messed', 'darkness', 'survive', 'noone', 'depressed', 'life', 'fat', 'hideous', 'help', 'someone', 'fascinating', 'paris', 'solotrip', 'work', 'used', 'change', 'good', 'cares', 'end', 'disappear', 'grow', 'escape', 'disappear', 'hurts', 'exhausted', 'deserve', 'awful', 'hideous', 'broken', 'hard', 'hurting', 'right', 'fake', 'life', 'everyone', 'harming', 'life', 'end', 'ill', 'suicide', 'life', 'life', 'depressed', 'lives', 'happy', 'living', 'knife', 'hatred', 'motivational', 'wrist', 'dead', 'born', 'inside', 'died', 'life', 'suicide', 'life', 'quit', 'harm', 'ill', 'escape', 'fan', 'poison', 'hate', 'lethal', 'fatal', 'destructive', 'live', 'suicidal', 'bleeding', 'everyone', 'harm', 'quit', 'enough', 'darkness', 'life', 'fair', 'die', 'end']\n"
     ]
    }
   ],
   "source": [
    "print(processed_list)"
   ]
  },
  {
   "cell_type": "code",
   "execution_count": 39,
   "metadata": {},
   "outputs": [],
   "source": [
    "ps=PorterStemmer()"
   ]
  },
  {
   "cell_type": "code",
   "execution_count": 40,
   "metadata": {},
   "outputs": [],
   "source": [
    "final_list=[]\n",
    "for i in range(13):\n",
    "    if(caption[\"sentiment\"][i]==\"negitive\"):\n",
    "        blob=TextBlob(caption[\"text\"][i])\n",
    "        s=blob.words\n",
    "        for j in s:\n",
    "            if ps.stem(j) in processed_list:\n",
    "                final_list.append(0)\n",
    "    else:\n",
    "        final_list.append(1)"
   ]
  },
  {
   "cell_type": "code",
   "execution_count": 41,
   "metadata": {},
   "outputs": [
    {
     "name": "stdout",
     "output_type": "stream",
     "text": [
      "suicide_rate: 67%\n"
     ]
    }
   ],
   "source": [
    "x_dep=final_list.count(0)/len(final_list)*100\n",
    "print(\"suicide_rate: \"+str(round(x_dep))+\"%\")\n",
    "    "
   ]
  },
  {
   "cell_type": "code",
   "execution_count": null,
   "metadata": {},
   "outputs": [],
   "source": []
  }
 ],
 "metadata": {
  "kernelspec": {
   "display_name": "Python 3",
   "language": "python",
   "name": "python3"
  },
  "language_info": {
   "codemirror_mode": {
    "name": "ipython",
    "version": 3
   },
   "file_extension": ".py",
   "mimetype": "text/x-python",
   "name": "python",
   "nbconvert_exporter": "python",
   "pygments_lexer": "ipython3",
   "version": "3.7.4"
  }
 },
 "nbformat": 4,
 "nbformat_minor": 4
}
